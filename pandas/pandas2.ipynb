{
 "cells": [
  {
   "cell_type": "code",
   "execution_count": 188,
   "id": "056653e5",
   "metadata": {},
   "outputs": [],
   "source": [
    "import pandas as pd"
   ]
  },
  {
   "cell_type": "markdown",
   "id": "9222bfab",
   "metadata": {},
   "source": [
    "# Create dummy data frame"
   ]
  },
  {
   "cell_type": "code",
   "execution_count": 189,
   "id": "a90a8661",
   "metadata": {},
   "outputs": [],
   "source": [
    "people = {\n",
    "    'first': ['mohamed', 'ali', 'mena', 'salma'],\n",
    "    'last': ['khaled', 'ahmed', 'omar', 'gamal'],\n",
    "    'email' : ['mohamed@gmail.com', 'ali@gmail.com', 'mena@gmail.com', 'salma@gamil.com'],\n",
    "    'gender': ['male', 'male', 'female', 'female']\n",
    "}"
   ]
  },
  {
   "cell_type": "code",
   "execution_count": 190,
   "id": "4bc97063",
   "metadata": {},
   "outputs": [],
   "source": [
    "df = pd.DataFrame(people);"
   ]
  },
  {
   "cell_type": "code",
   "execution_count": 191,
   "id": "f1eae565",
   "metadata": {},
   "outputs": [
    {
     "data": {
      "text/html": [
       "<div>\n",
       "<style scoped>\n",
       "    .dataframe tbody tr th:only-of-type {\n",
       "        vertical-align: middle;\n",
       "    }\n",
       "\n",
       "    .dataframe tbody tr th {\n",
       "        vertical-align: top;\n",
       "    }\n",
       "\n",
       "    .dataframe thead th {\n",
       "        text-align: right;\n",
       "    }\n",
       "</style>\n",
       "<table border=\"1\" class=\"dataframe\">\n",
       "  <thead>\n",
       "    <tr style=\"text-align: right;\">\n",
       "      <th></th>\n",
       "      <th>first</th>\n",
       "      <th>last</th>\n",
       "      <th>email</th>\n",
       "      <th>gender</th>\n",
       "    </tr>\n",
       "  </thead>\n",
       "  <tbody>\n",
       "    <tr>\n",
       "      <th>0</th>\n",
       "      <td>mohamed</td>\n",
       "      <td>khaled</td>\n",
       "      <td>mohamed@gmail.com</td>\n",
       "      <td>male</td>\n",
       "    </tr>\n",
       "    <tr>\n",
       "      <th>1</th>\n",
       "      <td>ali</td>\n",
       "      <td>ahmed</td>\n",
       "      <td>ali@gmail.com</td>\n",
       "      <td>male</td>\n",
       "    </tr>\n",
       "    <tr>\n",
       "      <th>2</th>\n",
       "      <td>mena</td>\n",
       "      <td>omar</td>\n",
       "      <td>mena@gmail.com</td>\n",
       "      <td>female</td>\n",
       "    </tr>\n",
       "    <tr>\n",
       "      <th>3</th>\n",
       "      <td>salma</td>\n",
       "      <td>gamal</td>\n",
       "      <td>salma@gamil.com</td>\n",
       "      <td>female</td>\n",
       "    </tr>\n",
       "  </tbody>\n",
       "</table>\n",
       "</div>"
      ],
      "text/plain": [
       "     first    last              email  gender\n",
       "0  mohamed  khaled  mohamed@gmail.com    male\n",
       "1      ali   ahmed      ali@gmail.com    male\n",
       "2     mena    omar     mena@gmail.com  female\n",
       "3    salma   gamal    salma@gamil.com  female"
      ]
     },
     "execution_count": 191,
     "metadata": {},
     "output_type": "execute_result"
    }
   ],
   "source": [
    "df"
   ]
  },
  {
   "cell_type": "markdown",
   "id": "57db5be2",
   "metadata": {},
   "source": [
    "# Ways to select from a data frame"
   ]
  },
  {
   "cell_type": "code",
   "execution_count": 192,
   "id": "ea9ce4a1",
   "metadata": {},
   "outputs": [
    {
     "data": {
      "text/plain": [
       "0    mohamed\n",
       "1        ali\n",
       "2       mena\n",
       "3      salma\n",
       "Name: first, dtype: object"
      ]
     },
     "execution_count": 192,
     "metadata": {},
     "output_type": "execute_result"
    }
   ],
   "source": [
    "# select single column\n",
    "df['first']"
   ]
  },
  {
   "cell_type": "code",
   "execution_count": 193,
   "id": "632ceb7a",
   "metadata": {},
   "outputs": [
    {
     "data": {
      "text/plain": [
       "0    khaled\n",
       "1     ahmed\n",
       "2      omar\n",
       "3     gamal\n",
       "Name: last, dtype: object"
      ]
     },
     "execution_count": 193,
     "metadata": {},
     "output_type": "execute_result"
    }
   ],
   "source": [
    "df['last']"
   ]
  },
  {
   "cell_type": "code",
   "execution_count": 194,
   "id": "0c6a4e00",
   "metadata": {},
   "outputs": [
    {
     "data": {
      "text/plain": [
       "pandas.core.series.Series"
      ]
     },
     "execution_count": 194,
     "metadata": {},
     "output_type": "execute_result"
    }
   ],
   "source": [
    "# one column in a datafrom is series\n",
    "type(df['email'])"
   ]
  },
  {
   "cell_type": "code",
   "execution_count": 195,
   "id": "083ae526",
   "metadata": {},
   "outputs": [
    {
     "data": {
      "text/plain": [
       "0    mohamed@gmail.com\n",
       "1        ali@gmail.com\n",
       "2       mena@gmail.com\n",
       "3      salma@gamil.com\n",
       "Name: email, dtype: object"
      ]
     },
     "execution_count": 195,
     "metadata": {},
     "output_type": "execute_result"
    }
   ],
   "source": [
    "# another way to select one column by dot notation but here there is an error with column name that have space\n",
    "df.email"
   ]
  },
  {
   "cell_type": "code",
   "execution_count": 196,
   "id": "d5fa85a2",
   "metadata": {},
   "outputs": [
    {
     "data": {
      "text/html": [
       "<div>\n",
       "<style scoped>\n",
       "    .dataframe tbody tr th:only-of-type {\n",
       "        vertical-align: middle;\n",
       "    }\n",
       "\n",
       "    .dataframe tbody tr th {\n",
       "        vertical-align: top;\n",
       "    }\n",
       "\n",
       "    .dataframe thead th {\n",
       "        text-align: right;\n",
       "    }\n",
       "</style>\n",
       "<table border=\"1\" class=\"dataframe\">\n",
       "  <thead>\n",
       "    <tr style=\"text-align: right;\">\n",
       "      <th></th>\n",
       "      <th>first</th>\n",
       "      <th>last</th>\n",
       "    </tr>\n",
       "  </thead>\n",
       "  <tbody>\n",
       "    <tr>\n",
       "      <th>0</th>\n",
       "      <td>mohamed</td>\n",
       "      <td>khaled</td>\n",
       "    </tr>\n",
       "    <tr>\n",
       "      <th>1</th>\n",
       "      <td>ali</td>\n",
       "      <td>ahmed</td>\n",
       "    </tr>\n",
       "    <tr>\n",
       "      <th>2</th>\n",
       "      <td>mena</td>\n",
       "      <td>omar</td>\n",
       "    </tr>\n",
       "    <tr>\n",
       "      <th>3</th>\n",
       "      <td>salma</td>\n",
       "      <td>gamal</td>\n",
       "    </tr>\n",
       "  </tbody>\n",
       "</table>\n",
       "</div>"
      ],
      "text/plain": [
       "     first    last\n",
       "0  mohamed  khaled\n",
       "1      ali   ahmed\n",
       "2     mena    omar\n",
       "3    salma   gamal"
      ]
     },
     "execution_count": 196,
     "metadata": {},
     "output_type": "execute_result"
    }
   ],
   "source": [
    "# select multi columns  \n",
    "df[['first', 'last']]"
   ]
  },
  {
   "cell_type": "code",
   "execution_count": 197,
   "id": "9f7ad7a1",
   "metadata": {},
   "outputs": [
    {
     "data": {
      "text/html": [
       "<div>\n",
       "<style scoped>\n",
       "    .dataframe tbody tr th:only-of-type {\n",
       "        vertical-align: middle;\n",
       "    }\n",
       "\n",
       "    .dataframe tbody tr th {\n",
       "        vertical-align: top;\n",
       "    }\n",
       "\n",
       "    .dataframe thead th {\n",
       "        text-align: right;\n",
       "    }\n",
       "</style>\n",
       "<table border=\"1\" class=\"dataframe\">\n",
       "  <thead>\n",
       "    <tr style=\"text-align: right;\">\n",
       "      <th></th>\n",
       "      <th>first</th>\n",
       "      <th>email</th>\n",
       "    </tr>\n",
       "  </thead>\n",
       "  <tbody>\n",
       "    <tr>\n",
       "      <th>0</th>\n",
       "      <td>mohamed</td>\n",
       "      <td>mohamed@gmail.com</td>\n",
       "    </tr>\n",
       "    <tr>\n",
       "      <th>1</th>\n",
       "      <td>ali</td>\n",
       "      <td>ali@gmail.com</td>\n",
       "    </tr>\n",
       "    <tr>\n",
       "      <th>2</th>\n",
       "      <td>mena</td>\n",
       "      <td>mena@gmail.com</td>\n",
       "    </tr>\n",
       "    <tr>\n",
       "      <th>3</th>\n",
       "      <td>salma</td>\n",
       "      <td>salma@gamil.com</td>\n",
       "    </tr>\n",
       "  </tbody>\n",
       "</table>\n",
       "</div>"
      ],
      "text/plain": [
       "     first              email\n",
       "0  mohamed  mohamed@gmail.com\n",
       "1      ali      ali@gmail.com\n",
       "2     mena     mena@gmail.com\n",
       "3    salma    salma@gamil.com"
      ]
     },
     "execution_count": 197,
     "metadata": {},
     "output_type": "execute_result"
    }
   ],
   "source": [
    "df[['first', 'email']]"
   ]
  },
  {
   "cell_type": "code",
   "execution_count": 198,
   "id": "fc71433e",
   "metadata": {},
   "outputs": [
    {
     "data": {
      "text/plain": [
       "first               mohamed\n",
       "last                 khaled\n",
       "email     mohamed@gmail.com\n",
       "gender                 male\n",
       "Name: 0, dtype: object"
      ]
     },
     "execution_count": 198,
     "metadata": {},
     "output_type": "execute_result"
    }
   ],
   "source": [
    "# can use iloc to select columns and row but iloc is not a function dont use ()\n",
    "# iloc accept only index\n",
    "\n",
    "# select first column\n",
    "df.iloc[0]"
   ]
  },
  {
   "cell_type": "code",
   "execution_count": 199,
   "id": "ec3f655a",
   "metadata": {},
   "outputs": [
    {
     "data": {
      "text/plain": [
       "first               ali\n",
       "last              ahmed\n",
       "email     ali@gmail.com\n",
       "gender             male\n",
       "Name: 1, dtype: object"
      ]
     },
     "execution_count": 199,
     "metadata": {},
     "output_type": "execute_result"
    }
   ],
   "source": [
    "# select second column\n",
    "df.iloc[1]"
   ]
  },
  {
   "cell_type": "code",
   "execution_count": 200,
   "id": "a6f85f58",
   "metadata": {},
   "outputs": [
    {
     "data": {
      "text/html": [
       "<div>\n",
       "<style scoped>\n",
       "    .dataframe tbody tr th:only-of-type {\n",
       "        vertical-align: middle;\n",
       "    }\n",
       "\n",
       "    .dataframe tbody tr th {\n",
       "        vertical-align: top;\n",
       "    }\n",
       "\n",
       "    .dataframe thead th {\n",
       "        text-align: right;\n",
       "    }\n",
       "</style>\n",
       "<table border=\"1\" class=\"dataframe\">\n",
       "  <thead>\n",
       "    <tr style=\"text-align: right;\">\n",
       "      <th></th>\n",
       "      <th>first</th>\n",
       "      <th>last</th>\n",
       "      <th>email</th>\n",
       "      <th>gender</th>\n",
       "    </tr>\n",
       "  </thead>\n",
       "  <tbody>\n",
       "    <tr>\n",
       "      <th>0</th>\n",
       "      <td>mohamed</td>\n",
       "      <td>khaled</td>\n",
       "      <td>mohamed@gmail.com</td>\n",
       "      <td>male</td>\n",
       "    </tr>\n",
       "    <tr>\n",
       "      <th>1</th>\n",
       "      <td>ali</td>\n",
       "      <td>ahmed</td>\n",
       "      <td>ali@gmail.com</td>\n",
       "      <td>male</td>\n",
       "    </tr>\n",
       "    <tr>\n",
       "      <th>2</th>\n",
       "      <td>mena</td>\n",
       "      <td>omar</td>\n",
       "      <td>mena@gmail.com</td>\n",
       "      <td>female</td>\n",
       "    </tr>\n",
       "    <tr>\n",
       "      <th>3</th>\n",
       "      <td>salma</td>\n",
       "      <td>gamal</td>\n",
       "      <td>salma@gamil.com</td>\n",
       "      <td>female</td>\n",
       "    </tr>\n",
       "  </tbody>\n",
       "</table>\n",
       "</div>"
      ],
      "text/plain": [
       "     first    last              email  gender\n",
       "0  mohamed  khaled  mohamed@gmail.com    male\n",
       "1      ali   ahmed      ali@gmail.com    male\n",
       "2     mena    omar     mena@gmail.com  female\n",
       "3    salma   gamal    salma@gamil.com  female"
      ]
     },
     "execution_count": 200,
     "metadata": {},
     "output_type": "execute_result"
    }
   ],
   "source": [
    "#select all data set \n",
    "df.iloc[:,:]"
   ]
  },
  {
   "cell_type": "code",
   "execution_count": 201,
   "id": "5d5665da",
   "metadata": {},
   "outputs": [
    {
     "data": {
      "text/plain": [
       "0      male\n",
       "1      male\n",
       "2    female\n",
       "3    female\n",
       "Name: gender, dtype: object"
      ]
     },
     "execution_count": 201,
     "metadata": {},
     "output_type": "execute_result"
    }
   ],
   "source": [
    "# select last columns\n",
    "df.iloc[:, -1]"
   ]
  },
  {
   "cell_type": "code",
   "execution_count": 202,
   "id": "ff1671ff",
   "metadata": {},
   "outputs": [
    {
     "data": {
      "text/html": [
       "<div>\n",
       "<style scoped>\n",
       "    .dataframe tbody tr th:only-of-type {\n",
       "        vertical-align: middle;\n",
       "    }\n",
       "\n",
       "    .dataframe tbody tr th {\n",
       "        vertical-align: top;\n",
       "    }\n",
       "\n",
       "    .dataframe thead th {\n",
       "        text-align: right;\n",
       "    }\n",
       "</style>\n",
       "<table border=\"1\" class=\"dataframe\">\n",
       "  <thead>\n",
       "    <tr style=\"text-align: right;\">\n",
       "      <th></th>\n",
       "      <th>first</th>\n",
       "      <th>last</th>\n",
       "      <th>email</th>\n",
       "    </tr>\n",
       "  </thead>\n",
       "  <tbody>\n",
       "    <tr>\n",
       "      <th>0</th>\n",
       "      <td>mohamed</td>\n",
       "      <td>khaled</td>\n",
       "      <td>mohamed@gmail.com</td>\n",
       "    </tr>\n",
       "    <tr>\n",
       "      <th>1</th>\n",
       "      <td>ali</td>\n",
       "      <td>ahmed</td>\n",
       "      <td>ali@gmail.com</td>\n",
       "    </tr>\n",
       "    <tr>\n",
       "      <th>2</th>\n",
       "      <td>mena</td>\n",
       "      <td>omar</td>\n",
       "      <td>mena@gmail.com</td>\n",
       "    </tr>\n",
       "    <tr>\n",
       "      <th>3</th>\n",
       "      <td>salma</td>\n",
       "      <td>gamal</td>\n",
       "      <td>salma@gamil.com</td>\n",
       "    </tr>\n",
       "  </tbody>\n",
       "</table>\n",
       "</div>"
      ],
      "text/plain": [
       "     first    last              email\n",
       "0  mohamed  khaled  mohamed@gmail.com\n",
       "1      ali   ahmed      ali@gmail.com\n",
       "2     mena    omar     mena@gmail.com\n",
       "3    salma   gamal    salma@gamil.com"
      ]
     },
     "execution_count": 202,
     "metadata": {},
     "output_type": "execute_result"
    }
   ],
   "source": [
    "# select all columns except last columns\n",
    "df.iloc[:, :-1]"
   ]
  },
  {
   "cell_type": "code",
   "execution_count": 203,
   "id": "1f95b62f",
   "metadata": {},
   "outputs": [
    {
     "data": {
      "text/html": [
       "<div>\n",
       "<style scoped>\n",
       "    .dataframe tbody tr th:only-of-type {\n",
       "        vertical-align: middle;\n",
       "    }\n",
       "\n",
       "    .dataframe tbody tr th {\n",
       "        vertical-align: top;\n",
       "    }\n",
       "\n",
       "    .dataframe thead th {\n",
       "        text-align: right;\n",
       "    }\n",
       "</style>\n",
       "<table border=\"1\" class=\"dataframe\">\n",
       "  <thead>\n",
       "    <tr style=\"text-align: right;\">\n",
       "      <th></th>\n",
       "      <th>first</th>\n",
       "      <th>last</th>\n",
       "      <th>email</th>\n",
       "      <th>gender</th>\n",
       "    </tr>\n",
       "  </thead>\n",
       "  <tbody>\n",
       "    <tr>\n",
       "      <th>0</th>\n",
       "      <td>mohamed</td>\n",
       "      <td>khaled</td>\n",
       "      <td>mohamed@gmail.com</td>\n",
       "      <td>male</td>\n",
       "    </tr>\n",
       "    <tr>\n",
       "      <th>1</th>\n",
       "      <td>ali</td>\n",
       "      <td>ahmed</td>\n",
       "      <td>ali@gmail.com</td>\n",
       "      <td>male</td>\n",
       "    </tr>\n",
       "    <tr>\n",
       "      <th>2</th>\n",
       "      <td>mena</td>\n",
       "      <td>omar</td>\n",
       "      <td>mena@gmail.com</td>\n",
       "      <td>female</td>\n",
       "    </tr>\n",
       "  </tbody>\n",
       "</table>\n",
       "</div>"
      ],
      "text/plain": [
       "     first    last              email  gender\n",
       "0  mohamed  khaled  mohamed@gmail.com    male\n",
       "1      ali   ahmed      ali@gmail.com    male\n",
       "2     mena    omar     mena@gmail.com  female"
      ]
     },
     "execution_count": 203,
     "metadata": {},
     "output_type": "execute_result"
    }
   ],
   "source": [
    "# select first three row\n",
    "df.iloc[:3, :]"
   ]
  },
  {
   "cell_type": "code",
   "execution_count": 204,
   "id": "e4baf227",
   "metadata": {},
   "outputs": [
    {
     "data": {
      "text/html": [
       "<div>\n",
       "<style scoped>\n",
       "    .dataframe tbody tr th:only-of-type {\n",
       "        vertical-align: middle;\n",
       "    }\n",
       "\n",
       "    .dataframe tbody tr th {\n",
       "        vertical-align: top;\n",
       "    }\n",
       "\n",
       "    .dataframe thead th {\n",
       "        text-align: right;\n",
       "    }\n",
       "</style>\n",
       "<table border=\"1\" class=\"dataframe\">\n",
       "  <thead>\n",
       "    <tr style=\"text-align: right;\">\n",
       "      <th></th>\n",
       "      <th>first</th>\n",
       "      <th>last</th>\n",
       "      <th>email</th>\n",
       "      <th>gender</th>\n",
       "    </tr>\n",
       "  </thead>\n",
       "  <tbody>\n",
       "    <tr>\n",
       "      <th>2</th>\n",
       "      <td>mena</td>\n",
       "      <td>omar</td>\n",
       "      <td>mena@gmail.com</td>\n",
       "      <td>female</td>\n",
       "    </tr>\n",
       "    <tr>\n",
       "      <th>3</th>\n",
       "      <td>salma</td>\n",
       "      <td>gamal</td>\n",
       "      <td>salma@gamil.com</td>\n",
       "      <td>female</td>\n",
       "    </tr>\n",
       "  </tbody>\n",
       "</table>\n",
       "</div>"
      ],
      "text/plain": [
       "   first   last            email  gender\n",
       "2   mena   omar   mena@gmail.com  female\n",
       "3  salma  gamal  salma@gamil.com  female"
      ]
     },
     "execution_count": 204,
     "metadata": {},
     "output_type": "execute_result"
    }
   ],
   "source": [
    "# select last two row\n",
    "df.iloc[-2:, :]"
   ]
  },
  {
   "cell_type": "code",
   "execution_count": 205,
   "id": "257efa96",
   "metadata": {},
   "outputs": [
    {
     "data": {
      "text/plain": [
       "0    mohamed\n",
       "1        ali\n",
       "2       mena\n",
       "3      salma\n",
       "Name: first, dtype: object"
      ]
     },
     "execution_count": 205,
     "metadata": {},
     "output_type": "execute_result"
    }
   ],
   "source": [
    "# can use loc to select columns and row but loc is not a function dont use ()\n",
    "# iloc accept only name of colums \n",
    "\n",
    "# select columns that name is first\n",
    "df.loc[:, 'first']"
   ]
  },
  {
   "cell_type": "code",
   "execution_count": 206,
   "id": "43fb9fd2",
   "metadata": {},
   "outputs": [
    {
     "data": {
      "text/html": [
       "<div>\n",
       "<style scoped>\n",
       "    .dataframe tbody tr th:only-of-type {\n",
       "        vertical-align: middle;\n",
       "    }\n",
       "\n",
       "    .dataframe tbody tr th {\n",
       "        vertical-align: top;\n",
       "    }\n",
       "\n",
       "    .dataframe thead th {\n",
       "        text-align: right;\n",
       "    }\n",
       "</style>\n",
       "<table border=\"1\" class=\"dataframe\">\n",
       "  <thead>\n",
       "    <tr style=\"text-align: right;\">\n",
       "      <th></th>\n",
       "      <th>first</th>\n",
       "      <th>last</th>\n",
       "    </tr>\n",
       "  </thead>\n",
       "  <tbody>\n",
       "    <tr>\n",
       "      <th>0</th>\n",
       "      <td>mohamed</td>\n",
       "      <td>khaled</td>\n",
       "    </tr>\n",
       "    <tr>\n",
       "      <th>1</th>\n",
       "      <td>ali</td>\n",
       "      <td>ahmed</td>\n",
       "    </tr>\n",
       "    <tr>\n",
       "      <th>2</th>\n",
       "      <td>mena</td>\n",
       "      <td>omar</td>\n",
       "    </tr>\n",
       "    <tr>\n",
       "      <th>3</th>\n",
       "      <td>salma</td>\n",
       "      <td>gamal</td>\n",
       "    </tr>\n",
       "  </tbody>\n",
       "</table>\n",
       "</div>"
      ],
      "text/plain": [
       "     first    last\n",
       "0  mohamed  khaled\n",
       "1      ali   ahmed\n",
       "2     mena    omar\n",
       "3    salma   gamal"
      ]
     },
     "execution_count": 206,
     "metadata": {},
     "output_type": "execute_result"
    }
   ],
   "source": [
    "df.loc[:, 'first': 'last']"
   ]
  },
  {
   "cell_type": "markdown",
   "id": "a171fbed",
   "metadata": {},
   "source": [
    "#  Data frame index"
   ]
  },
  {
   "cell_type": "code",
   "execution_count": 207,
   "id": "3f21aac1",
   "metadata": {},
   "outputs": [],
   "source": [
    "# set index of dataframe to email colums\n",
    "\n",
    "df.set_index('email', inplace=True)"
   ]
  },
  {
   "cell_type": "code",
   "execution_count": 208,
   "id": "0b28a48a",
   "metadata": {},
   "outputs": [
    {
     "data": {
      "text/html": [
       "<div>\n",
       "<style scoped>\n",
       "    .dataframe tbody tr th:only-of-type {\n",
       "        vertical-align: middle;\n",
       "    }\n",
       "\n",
       "    .dataframe tbody tr th {\n",
       "        vertical-align: top;\n",
       "    }\n",
       "\n",
       "    .dataframe thead th {\n",
       "        text-align: right;\n",
       "    }\n",
       "</style>\n",
       "<table border=\"1\" class=\"dataframe\">\n",
       "  <thead>\n",
       "    <tr style=\"text-align: right;\">\n",
       "      <th></th>\n",
       "      <th>first</th>\n",
       "      <th>last</th>\n",
       "      <th>gender</th>\n",
       "    </tr>\n",
       "    <tr>\n",
       "      <th>email</th>\n",
       "      <th></th>\n",
       "      <th></th>\n",
       "      <th></th>\n",
       "    </tr>\n",
       "  </thead>\n",
       "  <tbody>\n",
       "    <tr>\n",
       "      <th>mohamed@gmail.com</th>\n",
       "      <td>mohamed</td>\n",
       "      <td>khaled</td>\n",
       "      <td>male</td>\n",
       "    </tr>\n",
       "    <tr>\n",
       "      <th>ali@gmail.com</th>\n",
       "      <td>ali</td>\n",
       "      <td>ahmed</td>\n",
       "      <td>male</td>\n",
       "    </tr>\n",
       "    <tr>\n",
       "      <th>mena@gmail.com</th>\n",
       "      <td>mena</td>\n",
       "      <td>omar</td>\n",
       "      <td>female</td>\n",
       "    </tr>\n",
       "    <tr>\n",
       "      <th>salma@gamil.com</th>\n",
       "      <td>salma</td>\n",
       "      <td>gamal</td>\n",
       "      <td>female</td>\n",
       "    </tr>\n",
       "  </tbody>\n",
       "</table>\n",
       "</div>"
      ],
      "text/plain": [
       "                     first    last  gender\n",
       "email                                     \n",
       "mohamed@gmail.com  mohamed  khaled    male\n",
       "ali@gmail.com          ali   ahmed    male\n",
       "mena@gmail.com        mena    omar  female\n",
       "salma@gamil.com      salma   gamal  female"
      ]
     },
     "execution_count": 208,
     "metadata": {},
     "output_type": "execute_result"
    }
   ],
   "source": [
    "df"
   ]
  },
  {
   "cell_type": "code",
   "execution_count": 209,
   "id": "d8291455",
   "metadata": {},
   "outputs": [
    {
     "data": {
      "text/plain": [
       "email\n",
       "ali@gmail.com      ahmed\n",
       "mena@gmail.com      omar\n",
       "salma@gamil.com    gamal\n",
       "Name: last, dtype: object"
      ]
     },
     "execution_count": 209,
     "metadata": {},
     "output_type": "execute_result"
    }
   ],
   "source": [
    "df.loc['ali@gmail.com':'salma@gamil.com' , 'last']"
   ]
  },
  {
   "cell_type": "code",
   "execution_count": 210,
   "id": "50fc0e4f",
   "metadata": {},
   "outputs": [
    {
     "data": {
      "text/plain": [
       "first     mohamed\n",
       "last       khaled\n",
       "gender       male\n",
       "Name: mohamed@gmail.com, dtype: object"
      ]
     },
     "execution_count": 210,
     "metadata": {},
     "output_type": "execute_result"
    }
   ],
   "source": [
    "df.iloc[0]"
   ]
  },
  {
   "cell_type": "code",
   "execution_count": 211,
   "id": "e2a49ce3",
   "metadata": {},
   "outputs": [],
   "source": [
    "# here we reset index of dataframe to default index [0, 1, 2, ....] \n",
    "# (inplace = True) => use to aply changes on original data frame \n",
    "\n",
    "df.reset_index(inplace=True)"
   ]
  },
  {
   "cell_type": "code",
   "execution_count": 212,
   "id": "897b4033",
   "metadata": {},
   "outputs": [
    {
     "data": {
      "text/html": [
       "<div>\n",
       "<style scoped>\n",
       "    .dataframe tbody tr th:only-of-type {\n",
       "        vertical-align: middle;\n",
       "    }\n",
       "\n",
       "    .dataframe tbody tr th {\n",
       "        vertical-align: top;\n",
       "    }\n",
       "\n",
       "    .dataframe thead th {\n",
       "        text-align: right;\n",
       "    }\n",
       "</style>\n",
       "<table border=\"1\" class=\"dataframe\">\n",
       "  <thead>\n",
       "    <tr style=\"text-align: right;\">\n",
       "      <th></th>\n",
       "      <th>email</th>\n",
       "      <th>first</th>\n",
       "      <th>last</th>\n",
       "      <th>gender</th>\n",
       "    </tr>\n",
       "  </thead>\n",
       "  <tbody>\n",
       "    <tr>\n",
       "      <th>0</th>\n",
       "      <td>mohamed@gmail.com</td>\n",
       "      <td>mohamed</td>\n",
       "      <td>khaled</td>\n",
       "      <td>male</td>\n",
       "    </tr>\n",
       "    <tr>\n",
       "      <th>1</th>\n",
       "      <td>ali@gmail.com</td>\n",
       "      <td>ali</td>\n",
       "      <td>ahmed</td>\n",
       "      <td>male</td>\n",
       "    </tr>\n",
       "    <tr>\n",
       "      <th>2</th>\n",
       "      <td>mena@gmail.com</td>\n",
       "      <td>mena</td>\n",
       "      <td>omar</td>\n",
       "      <td>female</td>\n",
       "    </tr>\n",
       "    <tr>\n",
       "      <th>3</th>\n",
       "      <td>salma@gamil.com</td>\n",
       "      <td>salma</td>\n",
       "      <td>gamal</td>\n",
       "      <td>female</td>\n",
       "    </tr>\n",
       "  </tbody>\n",
       "</table>\n",
       "</div>"
      ],
      "text/plain": [
       "               email    first    last  gender\n",
       "0  mohamed@gmail.com  mohamed  khaled    male\n",
       "1      ali@gmail.com      ali   ahmed    male\n",
       "2     mena@gmail.com     mena    omar  female\n",
       "3    salma@gamil.com    salma   gamal  female"
      ]
     },
     "execution_count": 212,
     "metadata": {},
     "output_type": "execute_result"
    }
   ],
   "source": [
    "df"
   ]
  },
  {
   "cell_type": "markdown",
   "id": "e16b67a8",
   "metadata": {},
   "source": [
    "#  select row based on conditions"
   ]
  },
  {
   "cell_type": "code",
   "execution_count": 213,
   "id": "9114b1fb",
   "metadata": {},
   "outputs": [
    {
     "data": {
      "text/html": [
       "<div>\n",
       "<style scoped>\n",
       "    .dataframe tbody tr th:only-of-type {\n",
       "        vertical-align: middle;\n",
       "    }\n",
       "\n",
       "    .dataframe tbody tr th {\n",
       "        vertical-align: top;\n",
       "    }\n",
       "\n",
       "    .dataframe thead th {\n",
       "        text-align: right;\n",
       "    }\n",
       "</style>\n",
       "<table border=\"1\" class=\"dataframe\">\n",
       "  <thead>\n",
       "    <tr style=\"text-align: right;\">\n",
       "      <th></th>\n",
       "      <th>email</th>\n",
       "      <th>first</th>\n",
       "      <th>last</th>\n",
       "      <th>gender</th>\n",
       "    </tr>\n",
       "  </thead>\n",
       "  <tbody>\n",
       "    <tr>\n",
       "      <th>1</th>\n",
       "      <td>ali@gmail.com</td>\n",
       "      <td>ali</td>\n",
       "      <td>ahmed</td>\n",
       "      <td>male</td>\n",
       "    </tr>\n",
       "  </tbody>\n",
       "</table>\n",
       "</div>"
      ],
      "text/plain": [
       "           email first   last gender\n",
       "1  ali@gmail.com   ali  ahmed   male"
      ]
     },
     "execution_count": 213,
     "metadata": {},
     "output_type": "execute_result"
    }
   ],
   "source": [
    "df[df['last'] == 'ahmed']"
   ]
  },
  {
   "cell_type": "code",
   "execution_count": 214,
   "id": "a4c10f13",
   "metadata": {},
   "outputs": [
    {
     "data": {
      "text/html": [
       "<div>\n",
       "<style scoped>\n",
       "    .dataframe tbody tr th:only-of-type {\n",
       "        vertical-align: middle;\n",
       "    }\n",
       "\n",
       "    .dataframe tbody tr th {\n",
       "        vertical-align: top;\n",
       "    }\n",
       "\n",
       "    .dataframe thead th {\n",
       "        text-align: right;\n",
       "    }\n",
       "</style>\n",
       "<table border=\"1\" class=\"dataframe\">\n",
       "  <thead>\n",
       "    <tr style=\"text-align: right;\">\n",
       "      <th></th>\n",
       "      <th>email</th>\n",
       "      <th>first</th>\n",
       "      <th>last</th>\n",
       "      <th>gender</th>\n",
       "    </tr>\n",
       "  </thead>\n",
       "  <tbody>\n",
       "    <tr>\n",
       "      <th>0</th>\n",
       "      <td>mohamed@gmail.com</td>\n",
       "      <td>mohamed</td>\n",
       "      <td>khaled</td>\n",
       "      <td>male</td>\n",
       "    </tr>\n",
       "    <tr>\n",
       "      <th>1</th>\n",
       "      <td>ali@gmail.com</td>\n",
       "      <td>ali</td>\n",
       "      <td>ahmed</td>\n",
       "      <td>male</td>\n",
       "    </tr>\n",
       "  </tbody>\n",
       "</table>\n",
       "</div>"
      ],
      "text/plain": [
       "               email    first    last gender\n",
       "0  mohamed@gmail.com  mohamed  khaled   male\n",
       "1      ali@gmail.com      ali   ahmed   male"
      ]
     },
     "execution_count": 214,
     "metadata": {},
     "output_type": "execute_result"
    }
   ],
   "source": [
    "df[(df['first'] == 'ali') | (df['first'] == 'mohamed')]"
   ]
  },
  {
   "cell_type": "code",
   "execution_count": 215,
   "id": "2f145945",
   "metadata": {},
   "outputs": [
    {
     "data": {
      "text/html": [
       "<div>\n",
       "<style scoped>\n",
       "    .dataframe tbody tr th:only-of-type {\n",
       "        vertical-align: middle;\n",
       "    }\n",
       "\n",
       "    .dataframe tbody tr th {\n",
       "        vertical-align: top;\n",
       "    }\n",
       "\n",
       "    .dataframe thead th {\n",
       "        text-align: right;\n",
       "    }\n",
       "</style>\n",
       "<table border=\"1\" class=\"dataframe\">\n",
       "  <thead>\n",
       "    <tr style=\"text-align: right;\">\n",
       "      <th></th>\n",
       "      <th>email</th>\n",
       "      <th>first</th>\n",
       "      <th>last</th>\n",
       "      <th>gender</th>\n",
       "    </tr>\n",
       "  </thead>\n",
       "  <tbody>\n",
       "    <tr>\n",
       "      <th>0</th>\n",
       "      <td>mohamed@gmail.com</td>\n",
       "      <td>mohamed</td>\n",
       "      <td>khaled</td>\n",
       "      <td>male</td>\n",
       "    </tr>\n",
       "    <tr>\n",
       "      <th>1</th>\n",
       "      <td>ali@gmail.com</td>\n",
       "      <td>ali</td>\n",
       "      <td>ahmed</td>\n",
       "      <td>male</td>\n",
       "    </tr>\n",
       "  </tbody>\n",
       "</table>\n",
       "</div>"
      ],
      "text/plain": [
       "               email    first    last gender\n",
       "0  mohamed@gmail.com  mohamed  khaled   male\n",
       "1      ali@gmail.com      ali   ahmed   male"
      ]
     },
     "execution_count": 215,
     "metadata": {},
     "output_type": "execute_result"
    }
   ],
   "source": [
    "df[df['gender'] == 'male']"
   ]
  },
  {
   "cell_type": "code",
   "execution_count": 216,
   "id": "59634470",
   "metadata": {},
   "outputs": [
    {
     "data": {
      "text/html": [
       "<div>\n",
       "<style scoped>\n",
       "    .dataframe tbody tr th:only-of-type {\n",
       "        vertical-align: middle;\n",
       "    }\n",
       "\n",
       "    .dataframe tbody tr th {\n",
       "        vertical-align: top;\n",
       "    }\n",
       "\n",
       "    .dataframe thead th {\n",
       "        text-align: right;\n",
       "    }\n",
       "</style>\n",
       "<table border=\"1\" class=\"dataframe\">\n",
       "  <thead>\n",
       "    <tr style=\"text-align: right;\">\n",
       "      <th></th>\n",
       "      <th>email</th>\n",
       "      <th>first</th>\n",
       "      <th>last</th>\n",
       "      <th>gender</th>\n",
       "    </tr>\n",
       "  </thead>\n",
       "  <tbody>\n",
       "    <tr>\n",
       "      <th>0</th>\n",
       "      <td>mohamed@gmail.com</td>\n",
       "      <td>mohamed</td>\n",
       "      <td>khaled</td>\n",
       "      <td>male</td>\n",
       "    </tr>\n",
       "    <tr>\n",
       "      <th>1</th>\n",
       "      <td>ali@gmail.com</td>\n",
       "      <td>ali</td>\n",
       "      <td>ahmed</td>\n",
       "      <td>male</td>\n",
       "    </tr>\n",
       "    <tr>\n",
       "      <th>2</th>\n",
       "      <td>mena@gmail.com</td>\n",
       "      <td>mena</td>\n",
       "      <td>omar</td>\n",
       "      <td>female</td>\n",
       "    </tr>\n",
       "    <tr>\n",
       "      <th>3</th>\n",
       "      <td>salma@gamil.com</td>\n",
       "      <td>salma</td>\n",
       "      <td>gamal</td>\n",
       "      <td>female</td>\n",
       "    </tr>\n",
       "  </tbody>\n",
       "</table>\n",
       "</div>"
      ],
      "text/plain": [
       "               email    first    last  gender\n",
       "0  mohamed@gmail.com  mohamed  khaled    male\n",
       "1      ali@gmail.com      ali   ahmed    male\n",
       "2     mena@gmail.com     mena    omar  female\n",
       "3    salma@gamil.com    salma   gamal  female"
      ]
     },
     "execution_count": 216,
     "metadata": {},
     "output_type": "execute_result"
    }
   ],
   "source": [
    " df[~(df['email'] == 'sayed@gmail.com')]"
   ]
  },
  {
   "cell_type": "code",
   "execution_count": 217,
   "id": "99523eee",
   "metadata": {},
   "outputs": [
    {
     "data": {
      "text/html": [
       "<div>\n",
       "<style scoped>\n",
       "    .dataframe tbody tr th:only-of-type {\n",
       "        vertical-align: middle;\n",
       "    }\n",
       "\n",
       "    .dataframe tbody tr th {\n",
       "        vertical-align: top;\n",
       "    }\n",
       "\n",
       "    .dataframe thead th {\n",
       "        text-align: right;\n",
       "    }\n",
       "</style>\n",
       "<table border=\"1\" class=\"dataframe\">\n",
       "  <thead>\n",
       "    <tr style=\"text-align: right;\">\n",
       "      <th></th>\n",
       "      <th>email</th>\n",
       "      <th>first</th>\n",
       "      <th>last</th>\n",
       "      <th>gender</th>\n",
       "    </tr>\n",
       "  </thead>\n",
       "  <tbody>\n",
       "    <tr>\n",
       "      <th>0</th>\n",
       "      <td>mohamed@gmail.com</td>\n",
       "      <td>mohamed</td>\n",
       "      <td>khaled</td>\n",
       "      <td>male</td>\n",
       "    </tr>\n",
       "    <tr>\n",
       "      <th>1</th>\n",
       "      <td>ali@gmail.com</td>\n",
       "      <td>ali</td>\n",
       "      <td>ahmed</td>\n",
       "      <td>male</td>\n",
       "    </tr>\n",
       "    <tr>\n",
       "      <th>2</th>\n",
       "      <td>mena@gmail.com</td>\n",
       "      <td>mena</td>\n",
       "      <td>omar</td>\n",
       "      <td>female</td>\n",
       "    </tr>\n",
       "    <tr>\n",
       "      <th>3</th>\n",
       "      <td>salma@gamil.com</td>\n",
       "      <td>salma</td>\n",
       "      <td>gamal</td>\n",
       "      <td>female</td>\n",
       "    </tr>\n",
       "  </tbody>\n",
       "</table>\n",
       "</div>"
      ],
      "text/plain": [
       "               email    first    last  gender\n",
       "0  mohamed@gmail.com  mohamed  khaled    male\n",
       "1      ali@gmail.com      ali   ahmed    male\n",
       "2     mena@gmail.com     mena    omar  female\n",
       "3    salma@gamil.com    salma   gamal  female"
      ]
     },
     "execution_count": 217,
     "metadata": {},
     "output_type": "execute_result"
    }
   ],
   "source": [
    "df"
   ]
  },
  {
   "cell_type": "markdown",
   "id": "50f6d196",
   "metadata": {},
   "source": [
    "# Columns names"
   ]
  },
  {
   "cell_type": "code",
   "execution_count": 218,
   "id": "54fff9cc",
   "metadata": {},
   "outputs": [
    {
     "data": {
      "text/plain": [
       "Index(['email', 'first', 'last', 'gender'], dtype='object')"
      ]
     },
     "execution_count": 218,
     "metadata": {},
     "output_type": "execute_result"
    }
   ],
   "source": [
    "# disply all colnmns names\n",
    "df.columns"
   ]
  },
  {
   "cell_type": "code",
   "execution_count": 219,
   "id": "5949612d",
   "metadata": {},
   "outputs": [],
   "source": [
    "# rename all columns names\n",
    "df.columns = ['email', 'first_name', 'last_name', 'gender']"
   ]
  },
  {
   "cell_type": "code",
   "execution_count": 220,
   "id": "b897d3cd",
   "metadata": {},
   "outputs": [
    {
     "data": {
      "text/plain": [
       "Index(['email', 'first_name', 'last_name', 'gender'], dtype='object')"
      ]
     },
     "execution_count": 220,
     "metadata": {},
     "output_type": "execute_result"
    }
   ],
   "source": [
    "df.columns"
   ]
  },
  {
   "cell_type": "code",
   "execution_count": 221,
   "id": "befb74c7",
   "metadata": {},
   "outputs": [
    {
     "data": {
      "text/html": [
       "<div>\n",
       "<style scoped>\n",
       "    .dataframe tbody tr th:only-of-type {\n",
       "        vertical-align: middle;\n",
       "    }\n",
       "\n",
       "    .dataframe tbody tr th {\n",
       "        vertical-align: top;\n",
       "    }\n",
       "\n",
       "    .dataframe thead th {\n",
       "        text-align: right;\n",
       "    }\n",
       "</style>\n",
       "<table border=\"1\" class=\"dataframe\">\n",
       "  <thead>\n",
       "    <tr style=\"text-align: right;\">\n",
       "      <th></th>\n",
       "      <th>email</th>\n",
       "      <th>first_name</th>\n",
       "      <th>last_name</th>\n",
       "      <th>gender</th>\n",
       "    </tr>\n",
       "  </thead>\n",
       "  <tbody>\n",
       "    <tr>\n",
       "      <th>0</th>\n",
       "      <td>mohamed@gmail.com</td>\n",
       "      <td>mohamed</td>\n",
       "      <td>khaled</td>\n",
       "      <td>male</td>\n",
       "    </tr>\n",
       "    <tr>\n",
       "      <th>1</th>\n",
       "      <td>ali@gmail.com</td>\n",
       "      <td>ali</td>\n",
       "      <td>ahmed</td>\n",
       "      <td>male</td>\n",
       "    </tr>\n",
       "    <tr>\n",
       "      <th>2</th>\n",
       "      <td>mena@gmail.com</td>\n",
       "      <td>mena</td>\n",
       "      <td>omar</td>\n",
       "      <td>female</td>\n",
       "    </tr>\n",
       "    <tr>\n",
       "      <th>3</th>\n",
       "      <td>salma@gamil.com</td>\n",
       "      <td>salma</td>\n",
       "      <td>gamal</td>\n",
       "      <td>female</td>\n",
       "    </tr>\n",
       "  </tbody>\n",
       "</table>\n",
       "</div>"
      ],
      "text/plain": [
       "               email first_name last_name  gender\n",
       "0  mohamed@gmail.com    mohamed    khaled    male\n",
       "1      ali@gmail.com        ali     ahmed    male\n",
       "2     mena@gmail.com       mena      omar  female\n",
       "3    salma@gamil.com      salma     gamal  female"
      ]
     },
     "execution_count": 221,
     "metadata": {},
     "output_type": "execute_result"
    }
   ],
   "source": [
    "df"
   ]
  },
  {
   "cell_type": "code",
   "execution_count": 222,
   "id": "29c96536",
   "metadata": {},
   "outputs": [],
   "source": [
    "# make all columns name upper case\n",
    "df.columns = [x.upper() for x in df.columns]"
   ]
  },
  {
   "cell_type": "code",
   "execution_count": 223,
   "id": "8765d976",
   "metadata": {},
   "outputs": [
    {
     "data": {
      "text/html": [
       "<div>\n",
       "<style scoped>\n",
       "    .dataframe tbody tr th:only-of-type {\n",
       "        vertical-align: middle;\n",
       "    }\n",
       "\n",
       "    .dataframe tbody tr th {\n",
       "        vertical-align: top;\n",
       "    }\n",
       "\n",
       "    .dataframe thead th {\n",
       "        text-align: right;\n",
       "    }\n",
       "</style>\n",
       "<table border=\"1\" class=\"dataframe\">\n",
       "  <thead>\n",
       "    <tr style=\"text-align: right;\">\n",
       "      <th></th>\n",
       "      <th>EMAIL</th>\n",
       "      <th>FIRST_NAME</th>\n",
       "      <th>LAST_NAME</th>\n",
       "      <th>GENDER</th>\n",
       "    </tr>\n",
       "  </thead>\n",
       "  <tbody>\n",
       "    <tr>\n",
       "      <th>0</th>\n",
       "      <td>mohamed@gmail.com</td>\n",
       "      <td>mohamed</td>\n",
       "      <td>khaled</td>\n",
       "      <td>male</td>\n",
       "    </tr>\n",
       "    <tr>\n",
       "      <th>1</th>\n",
       "      <td>ali@gmail.com</td>\n",
       "      <td>ali</td>\n",
       "      <td>ahmed</td>\n",
       "      <td>male</td>\n",
       "    </tr>\n",
       "    <tr>\n",
       "      <th>2</th>\n",
       "      <td>mena@gmail.com</td>\n",
       "      <td>mena</td>\n",
       "      <td>omar</td>\n",
       "      <td>female</td>\n",
       "    </tr>\n",
       "    <tr>\n",
       "      <th>3</th>\n",
       "      <td>salma@gamil.com</td>\n",
       "      <td>salma</td>\n",
       "      <td>gamal</td>\n",
       "      <td>female</td>\n",
       "    </tr>\n",
       "  </tbody>\n",
       "</table>\n",
       "</div>"
      ],
      "text/plain": [
       "               EMAIL FIRST_NAME LAST_NAME  GENDER\n",
       "0  mohamed@gmail.com    mohamed    khaled    male\n",
       "1      ali@gmail.com        ali     ahmed    male\n",
       "2     mena@gmail.com       mena      omar  female\n",
       "3    salma@gamil.com      salma     gamal  female"
      ]
     },
     "execution_count": 223,
     "metadata": {},
     "output_type": "execute_result"
    }
   ],
   "source": [
    "df"
   ]
  },
  {
   "cell_type": "code",
   "execution_count": 224,
   "id": "fc085ddf",
   "metadata": {},
   "outputs": [],
   "source": [
    "# use rename method to rename specific column\n",
    "df.rename(columns={'FIRST_NAME':'first', 'LAST_NAME': 'last'}, inplace=True)"
   ]
  },
  {
   "cell_type": "code",
   "execution_count": 225,
   "id": "08f8bc52",
   "metadata": {},
   "outputs": [
    {
     "data": {
      "text/html": [
       "<div>\n",
       "<style scoped>\n",
       "    .dataframe tbody tr th:only-of-type {\n",
       "        vertical-align: middle;\n",
       "    }\n",
       "\n",
       "    .dataframe tbody tr th {\n",
       "        vertical-align: top;\n",
       "    }\n",
       "\n",
       "    .dataframe thead th {\n",
       "        text-align: right;\n",
       "    }\n",
       "</style>\n",
       "<table border=\"1\" class=\"dataframe\">\n",
       "  <thead>\n",
       "    <tr style=\"text-align: right;\">\n",
       "      <th></th>\n",
       "      <th>EMAIL</th>\n",
       "      <th>first</th>\n",
       "      <th>last</th>\n",
       "      <th>GENDER</th>\n",
       "    </tr>\n",
       "  </thead>\n",
       "  <tbody>\n",
       "    <tr>\n",
       "      <th>0</th>\n",
       "      <td>mohamed@gmail.com</td>\n",
       "      <td>mohamed</td>\n",
       "      <td>khaled</td>\n",
       "      <td>male</td>\n",
       "    </tr>\n",
       "    <tr>\n",
       "      <th>1</th>\n",
       "      <td>ali@gmail.com</td>\n",
       "      <td>ali</td>\n",
       "      <td>ahmed</td>\n",
       "      <td>male</td>\n",
       "    </tr>\n",
       "    <tr>\n",
       "      <th>2</th>\n",
       "      <td>mena@gmail.com</td>\n",
       "      <td>mena</td>\n",
       "      <td>omar</td>\n",
       "      <td>female</td>\n",
       "    </tr>\n",
       "    <tr>\n",
       "      <th>3</th>\n",
       "      <td>salma@gamil.com</td>\n",
       "      <td>salma</td>\n",
       "      <td>gamal</td>\n",
       "      <td>female</td>\n",
       "    </tr>\n",
       "  </tbody>\n",
       "</table>\n",
       "</div>"
      ],
      "text/plain": [
       "               EMAIL    first    last  GENDER\n",
       "0  mohamed@gmail.com  mohamed  khaled    male\n",
       "1      ali@gmail.com      ali   ahmed    male\n",
       "2     mena@gmail.com     mena    omar  female\n",
       "3    salma@gamil.com    salma   gamal  female"
      ]
     },
     "execution_count": 225,
     "metadata": {},
     "output_type": "execute_result"
    }
   ],
   "source": [
    "df"
   ]
  },
  {
   "cell_type": "markdown",
   "id": "24658bf3",
   "metadata": {},
   "source": [
    "#  Update existing columns"
   ]
  },
  {
   "cell_type": "code",
   "execution_count": 226,
   "id": "d2ba06ce",
   "metadata": {},
   "outputs": [],
   "source": [
    "# here we update all columns\n",
    "\n",
    "df.loc[2] = ['heba@gmail.com', 'heba', 'khaled', 'female']"
   ]
  },
  {
   "cell_type": "code",
   "execution_count": 227,
   "id": "e5d6ceb3",
   "metadata": {},
   "outputs": [
    {
     "data": {
      "text/html": [
       "<div>\n",
       "<style scoped>\n",
       "    .dataframe tbody tr th:only-of-type {\n",
       "        vertical-align: middle;\n",
       "    }\n",
       "\n",
       "    .dataframe tbody tr th {\n",
       "        vertical-align: top;\n",
       "    }\n",
       "\n",
       "    .dataframe thead th {\n",
       "        text-align: right;\n",
       "    }\n",
       "</style>\n",
       "<table border=\"1\" class=\"dataframe\">\n",
       "  <thead>\n",
       "    <tr style=\"text-align: right;\">\n",
       "      <th></th>\n",
       "      <th>EMAIL</th>\n",
       "      <th>first</th>\n",
       "      <th>last</th>\n",
       "      <th>GENDER</th>\n",
       "    </tr>\n",
       "  </thead>\n",
       "  <tbody>\n",
       "    <tr>\n",
       "      <th>0</th>\n",
       "      <td>mohamed@gmail.com</td>\n",
       "      <td>mohamed</td>\n",
       "      <td>khaled</td>\n",
       "      <td>male</td>\n",
       "    </tr>\n",
       "    <tr>\n",
       "      <th>1</th>\n",
       "      <td>ali@gmail.com</td>\n",
       "      <td>ali</td>\n",
       "      <td>ahmed</td>\n",
       "      <td>male</td>\n",
       "    </tr>\n",
       "    <tr>\n",
       "      <th>2</th>\n",
       "      <td>heba@gmail.com</td>\n",
       "      <td>heba</td>\n",
       "      <td>khaled</td>\n",
       "      <td>female</td>\n",
       "    </tr>\n",
       "    <tr>\n",
       "      <th>3</th>\n",
       "      <td>salma@gamil.com</td>\n",
       "      <td>salma</td>\n",
       "      <td>gamal</td>\n",
       "      <td>female</td>\n",
       "    </tr>\n",
       "  </tbody>\n",
       "</table>\n",
       "</div>"
      ],
      "text/plain": [
       "               EMAIL    first    last  GENDER\n",
       "0  mohamed@gmail.com  mohamed  khaled    male\n",
       "1      ali@gmail.com      ali   ahmed    male\n",
       "2     heba@gmail.com     heba  khaled  female\n",
       "3    salma@gamil.com    salma   gamal  female"
      ]
     },
     "execution_count": 227,
     "metadata": {},
     "output_type": "execute_result"
    }
   ],
   "source": [
    "df"
   ]
  },
  {
   "cell_type": "code",
   "execution_count": 228,
   "id": "a4f1ab90",
   "metadata": {},
   "outputs": [],
   "source": [
    "# here we update two columns last and email only\n",
    "df.loc[2, ['last', 'EMAIL']] = ['mena', 'mena@gmail.com']"
   ]
  },
  {
   "cell_type": "code",
   "execution_count": 229,
   "id": "a7a89d19",
   "metadata": {},
   "outputs": [
    {
     "data": {
      "text/html": [
       "<div>\n",
       "<style scoped>\n",
       "    .dataframe tbody tr th:only-of-type {\n",
       "        vertical-align: middle;\n",
       "    }\n",
       "\n",
       "    .dataframe tbody tr th {\n",
       "        vertical-align: top;\n",
       "    }\n",
       "\n",
       "    .dataframe thead th {\n",
       "        text-align: right;\n",
       "    }\n",
       "</style>\n",
       "<table border=\"1\" class=\"dataframe\">\n",
       "  <thead>\n",
       "    <tr style=\"text-align: right;\">\n",
       "      <th></th>\n",
       "      <th>EMAIL</th>\n",
       "      <th>first</th>\n",
       "      <th>last</th>\n",
       "      <th>GENDER</th>\n",
       "    </tr>\n",
       "  </thead>\n",
       "  <tbody>\n",
       "    <tr>\n",
       "      <th>0</th>\n",
       "      <td>mohamed@gmail.com</td>\n",
       "      <td>mohamed</td>\n",
       "      <td>khaled</td>\n",
       "      <td>male</td>\n",
       "    </tr>\n",
       "    <tr>\n",
       "      <th>1</th>\n",
       "      <td>ali@gmail.com</td>\n",
       "      <td>ali</td>\n",
       "      <td>ahmed</td>\n",
       "      <td>male</td>\n",
       "    </tr>\n",
       "    <tr>\n",
       "      <th>2</th>\n",
       "      <td>mena@gmail.com</td>\n",
       "      <td>heba</td>\n",
       "      <td>mena</td>\n",
       "      <td>female</td>\n",
       "    </tr>\n",
       "    <tr>\n",
       "      <th>3</th>\n",
       "      <td>salma@gamil.com</td>\n",
       "      <td>salma</td>\n",
       "      <td>gamal</td>\n",
       "      <td>female</td>\n",
       "    </tr>\n",
       "  </tbody>\n",
       "</table>\n",
       "</div>"
      ],
      "text/plain": [
       "               EMAIL    first    last  GENDER\n",
       "0  mohamed@gmail.com  mohamed  khaled    male\n",
       "1      ali@gmail.com      ali   ahmed    male\n",
       "2     mena@gmail.com     heba    mena  female\n",
       "3    salma@gamil.com    salma   gamal  female"
      ]
     },
     "execution_count": 229,
     "metadata": {},
     "output_type": "execute_result"
    }
   ],
   "source": [
    "df"
   ]
  },
  {
   "cell_type": "code",
   "execution_count": 230,
   "id": "97c4d0da",
   "metadata": {},
   "outputs": [],
   "source": [
    "# make all columns name upper case\n",
    "df.columns = [x.lower() for x in df.columns]"
   ]
  },
  {
   "cell_type": "code",
   "execution_count": 231,
   "id": "9925d4aa",
   "metadata": {},
   "outputs": [],
   "source": [
    "df.loc[0, ['last']] = 'selim'"
   ]
  },
  {
   "cell_type": "code",
   "execution_count": 232,
   "id": "cb7ec619",
   "metadata": {},
   "outputs": [
    {
     "data": {
      "text/html": [
       "<div>\n",
       "<style scoped>\n",
       "    .dataframe tbody tr th:only-of-type {\n",
       "        vertical-align: middle;\n",
       "    }\n",
       "\n",
       "    .dataframe tbody tr th {\n",
       "        vertical-align: top;\n",
       "    }\n",
       "\n",
       "    .dataframe thead th {\n",
       "        text-align: right;\n",
       "    }\n",
       "</style>\n",
       "<table border=\"1\" class=\"dataframe\">\n",
       "  <thead>\n",
       "    <tr style=\"text-align: right;\">\n",
       "      <th></th>\n",
       "      <th>email</th>\n",
       "      <th>first</th>\n",
       "      <th>last</th>\n",
       "      <th>gender</th>\n",
       "    </tr>\n",
       "  </thead>\n",
       "  <tbody>\n",
       "    <tr>\n",
       "      <th>0</th>\n",
       "      <td>mohamed@gmail.com</td>\n",
       "      <td>mohamed</td>\n",
       "      <td>selim</td>\n",
       "      <td>male</td>\n",
       "    </tr>\n",
       "    <tr>\n",
       "      <th>1</th>\n",
       "      <td>ali@gmail.com</td>\n",
       "      <td>ali</td>\n",
       "      <td>ahmed</td>\n",
       "      <td>male</td>\n",
       "    </tr>\n",
       "    <tr>\n",
       "      <th>2</th>\n",
       "      <td>mena@gmail.com</td>\n",
       "      <td>heba</td>\n",
       "      <td>mena</td>\n",
       "      <td>female</td>\n",
       "    </tr>\n",
       "    <tr>\n",
       "      <th>3</th>\n",
       "      <td>salma@gamil.com</td>\n",
       "      <td>salma</td>\n",
       "      <td>gamal</td>\n",
       "      <td>female</td>\n",
       "    </tr>\n",
       "  </tbody>\n",
       "</table>\n",
       "</div>"
      ],
      "text/plain": [
       "               email    first   last  gender\n",
       "0  mohamed@gmail.com  mohamed  selim    male\n",
       "1      ali@gmail.com      ali  ahmed    male\n",
       "2     mena@gmail.com     heba   mena  female\n",
       "3    salma@gamil.com    salma  gamal  female"
      ]
     },
     "execution_count": 232,
     "metadata": {},
     "output_type": "execute_result"
    }
   ],
   "source": [
    "df"
   ]
  },
  {
   "cell_type": "code",
   "execution_count": 233,
   "id": "0540dfb4",
   "metadata": {},
   "outputs": [],
   "source": [
    "df.at[2, 'last'] = 'khaled'"
   ]
  },
  {
   "cell_type": "code",
   "execution_count": 234,
   "id": "8f29962a",
   "metadata": {},
   "outputs": [
    {
     "data": {
      "text/html": [
       "<div>\n",
       "<style scoped>\n",
       "    .dataframe tbody tr th:only-of-type {\n",
       "        vertical-align: middle;\n",
       "    }\n",
       "\n",
       "    .dataframe tbody tr th {\n",
       "        vertical-align: top;\n",
       "    }\n",
       "\n",
       "    .dataframe thead th {\n",
       "        text-align: right;\n",
       "    }\n",
       "</style>\n",
       "<table border=\"1\" class=\"dataframe\">\n",
       "  <thead>\n",
       "    <tr style=\"text-align: right;\">\n",
       "      <th></th>\n",
       "      <th>email</th>\n",
       "      <th>first</th>\n",
       "      <th>last</th>\n",
       "      <th>gender</th>\n",
       "    </tr>\n",
       "  </thead>\n",
       "  <tbody>\n",
       "    <tr>\n",
       "      <th>0</th>\n",
       "      <td>mohamed@gmail.com</td>\n",
       "      <td>mohamed</td>\n",
       "      <td>selim</td>\n",
       "      <td>male</td>\n",
       "    </tr>\n",
       "    <tr>\n",
       "      <th>1</th>\n",
       "      <td>ali@gmail.com</td>\n",
       "      <td>ali</td>\n",
       "      <td>ahmed</td>\n",
       "      <td>male</td>\n",
       "    </tr>\n",
       "    <tr>\n",
       "      <th>2</th>\n",
       "      <td>mena@gmail.com</td>\n",
       "      <td>heba</td>\n",
       "      <td>khaled</td>\n",
       "      <td>female</td>\n",
       "    </tr>\n",
       "    <tr>\n",
       "      <th>3</th>\n",
       "      <td>salma@gamil.com</td>\n",
       "      <td>salma</td>\n",
       "      <td>gamal</td>\n",
       "      <td>female</td>\n",
       "    </tr>\n",
       "  </tbody>\n",
       "</table>\n",
       "</div>"
      ],
      "text/plain": [
       "               email    first    last  gender\n",
       "0  mohamed@gmail.com  mohamed   selim    male\n",
       "1      ali@gmail.com      ali   ahmed    male\n",
       "2     mena@gmail.com     heba  khaled  female\n",
       "3    salma@gamil.com    salma   gamal  female"
      ]
     },
     "execution_count": 234,
     "metadata": {},
     "output_type": "execute_result"
    }
   ],
   "source": [
    "df"
   ]
  },
  {
   "cell_type": "code",
   "execution_count": 235,
   "id": "cddb3893",
   "metadata": {},
   "outputs": [],
   "source": [
    "filt = (df['email'] == 'mena@gmail.com' )"
   ]
  },
  {
   "cell_type": "code",
   "execution_count": 236,
   "id": "d2fec847",
   "metadata": {},
   "outputs": [],
   "source": [
    "# here we update user who email is mena@gmail.com \n",
    "\n",
    "df.loc[2, 'first'] = 'mena'"
   ]
  },
  {
   "cell_type": "code",
   "execution_count": 237,
   "id": "68c06e08",
   "metadata": {},
   "outputs": [
    {
     "data": {
      "text/html": [
       "<div>\n",
       "<style scoped>\n",
       "    .dataframe tbody tr th:only-of-type {\n",
       "        vertical-align: middle;\n",
       "    }\n",
       "\n",
       "    .dataframe tbody tr th {\n",
       "        vertical-align: top;\n",
       "    }\n",
       "\n",
       "    .dataframe thead th {\n",
       "        text-align: right;\n",
       "    }\n",
       "</style>\n",
       "<table border=\"1\" class=\"dataframe\">\n",
       "  <thead>\n",
       "    <tr style=\"text-align: right;\">\n",
       "      <th></th>\n",
       "      <th>email</th>\n",
       "      <th>first</th>\n",
       "      <th>last</th>\n",
       "      <th>gender</th>\n",
       "    </tr>\n",
       "  </thead>\n",
       "  <tbody>\n",
       "    <tr>\n",
       "      <th>0</th>\n",
       "      <td>mohamed@gmail.com</td>\n",
       "      <td>mohamed</td>\n",
       "      <td>selim</td>\n",
       "      <td>male</td>\n",
       "    </tr>\n",
       "    <tr>\n",
       "      <th>1</th>\n",
       "      <td>ali@gmail.com</td>\n",
       "      <td>ali</td>\n",
       "      <td>ahmed</td>\n",
       "      <td>male</td>\n",
       "    </tr>\n",
       "    <tr>\n",
       "      <th>2</th>\n",
       "      <td>mena@gmail.com</td>\n",
       "      <td>mena</td>\n",
       "      <td>khaled</td>\n",
       "      <td>female</td>\n",
       "    </tr>\n",
       "    <tr>\n",
       "      <th>3</th>\n",
       "      <td>salma@gamil.com</td>\n",
       "      <td>salma</td>\n",
       "      <td>gamal</td>\n",
       "      <td>female</td>\n",
       "    </tr>\n",
       "  </tbody>\n",
       "</table>\n",
       "</div>"
      ],
      "text/plain": [
       "               email    first    last  gender\n",
       "0  mohamed@gmail.com  mohamed   selim    male\n",
       "1      ali@gmail.com      ali   ahmed    male\n",
       "2     mena@gmail.com     mena  khaled  female\n",
       "3    salma@gamil.com    salma   gamal  female"
      ]
     },
     "execution_count": 237,
     "metadata": {},
     "output_type": "execute_result"
    }
   ],
   "source": [
    "df"
   ]
  },
  {
   "cell_type": "code",
   "execution_count": 238,
   "id": "61c0950b",
   "metadata": {},
   "outputs": [],
   "source": [
    "df['email'] = df['email'].str.capitalize()"
   ]
  },
  {
   "cell_type": "code",
   "execution_count": 239,
   "id": "3ed8a750",
   "metadata": {},
   "outputs": [
    {
     "data": {
      "text/html": [
       "<div>\n",
       "<style scoped>\n",
       "    .dataframe tbody tr th:only-of-type {\n",
       "        vertical-align: middle;\n",
       "    }\n",
       "\n",
       "    .dataframe tbody tr th {\n",
       "        vertical-align: top;\n",
       "    }\n",
       "\n",
       "    .dataframe thead th {\n",
       "        text-align: right;\n",
       "    }\n",
       "</style>\n",
       "<table border=\"1\" class=\"dataframe\">\n",
       "  <thead>\n",
       "    <tr style=\"text-align: right;\">\n",
       "      <th></th>\n",
       "      <th>email</th>\n",
       "      <th>first</th>\n",
       "      <th>last</th>\n",
       "      <th>gender</th>\n",
       "    </tr>\n",
       "  </thead>\n",
       "  <tbody>\n",
       "    <tr>\n",
       "      <th>0</th>\n",
       "      <td>Mohamed@gmail.com</td>\n",
       "      <td>mohamed</td>\n",
       "      <td>selim</td>\n",
       "      <td>male</td>\n",
       "    </tr>\n",
       "    <tr>\n",
       "      <th>1</th>\n",
       "      <td>Ali@gmail.com</td>\n",
       "      <td>ali</td>\n",
       "      <td>ahmed</td>\n",
       "      <td>male</td>\n",
       "    </tr>\n",
       "    <tr>\n",
       "      <th>2</th>\n",
       "      <td>Mena@gmail.com</td>\n",
       "      <td>mena</td>\n",
       "      <td>khaled</td>\n",
       "      <td>female</td>\n",
       "    </tr>\n",
       "    <tr>\n",
       "      <th>3</th>\n",
       "      <td>Salma@gamil.com</td>\n",
       "      <td>salma</td>\n",
       "      <td>gamal</td>\n",
       "      <td>female</td>\n",
       "    </tr>\n",
       "  </tbody>\n",
       "</table>\n",
       "</div>"
      ],
      "text/plain": [
       "               email    first    last  gender\n",
       "0  Mohamed@gmail.com  mohamed   selim    male\n",
       "1      Ali@gmail.com      ali   ahmed    male\n",
       "2     Mena@gmail.com     mena  khaled  female\n",
       "3    Salma@gamil.com    salma   gamal  female"
      ]
     },
     "execution_count": 239,
     "metadata": {},
     "output_type": "execute_result"
    }
   ],
   "source": [
    "df"
   ]
  },
  {
   "cell_type": "markdown",
   "id": "8a1dcb50",
   "metadata": {},
   "source": [
    "# apply function"
   ]
  },
  {
   "cell_type": "code",
   "execution_count": 240,
   "id": "f182add8",
   "metadata": {},
   "outputs": [
    {
     "data": {
      "text/plain": [
       "0    17\n",
       "1    13\n",
       "2    14\n",
       "3    15\n",
       "Name: email, dtype: int64"
      ]
     },
     "execution_count": 240,
     "metadata": {},
     "output_type": "execute_result"
    }
   ],
   "source": [
    "# apply func work only on series\n",
    "df['email'].apply(len)"
   ]
  },
  {
   "cell_type": "code",
   "execution_count": 241,
   "id": "9c11b684",
   "metadata": {},
   "outputs": [],
   "source": [
    "def update_email(email):\n",
    "    return email.lower();"
   ]
  },
  {
   "cell_type": "code",
   "execution_count": 242,
   "id": "001174f4",
   "metadata": {},
   "outputs": [
    {
     "data": {
      "text/plain": [
       "0    mohamed@gmail.com\n",
       "1        ali@gmail.com\n",
       "2       mena@gmail.com\n",
       "3      salma@gamil.com\n",
       "Name: email, dtype: object"
      ]
     },
     "execution_count": 242,
     "metadata": {},
     "output_type": "execute_result"
    }
   ],
   "source": [
    "df['email'].apply(update_email)"
   ]
  },
  {
   "cell_type": "code",
   "execution_count": 243,
   "id": "7826460f",
   "metadata": {},
   "outputs": [],
   "source": [
    "df['email'] = df['email'].apply(update_email)"
   ]
  },
  {
   "cell_type": "code",
   "execution_count": 244,
   "id": "996c88bc",
   "metadata": {},
   "outputs": [
    {
     "data": {
      "text/html": [
       "<div>\n",
       "<style scoped>\n",
       "    .dataframe tbody tr th:only-of-type {\n",
       "        vertical-align: middle;\n",
       "    }\n",
       "\n",
       "    .dataframe tbody tr th {\n",
       "        vertical-align: top;\n",
       "    }\n",
       "\n",
       "    .dataframe thead th {\n",
       "        text-align: right;\n",
       "    }\n",
       "</style>\n",
       "<table border=\"1\" class=\"dataframe\">\n",
       "  <thead>\n",
       "    <tr style=\"text-align: right;\">\n",
       "      <th></th>\n",
       "      <th>email</th>\n",
       "      <th>first</th>\n",
       "      <th>last</th>\n",
       "      <th>gender</th>\n",
       "    </tr>\n",
       "  </thead>\n",
       "  <tbody>\n",
       "    <tr>\n",
       "      <th>0</th>\n",
       "      <td>mohamed@gmail.com</td>\n",
       "      <td>mohamed</td>\n",
       "      <td>selim</td>\n",
       "      <td>male</td>\n",
       "    </tr>\n",
       "    <tr>\n",
       "      <th>1</th>\n",
       "      <td>ali@gmail.com</td>\n",
       "      <td>ali</td>\n",
       "      <td>ahmed</td>\n",
       "      <td>male</td>\n",
       "    </tr>\n",
       "    <tr>\n",
       "      <th>2</th>\n",
       "      <td>mena@gmail.com</td>\n",
       "      <td>mena</td>\n",
       "      <td>khaled</td>\n",
       "      <td>female</td>\n",
       "    </tr>\n",
       "    <tr>\n",
       "      <th>3</th>\n",
       "      <td>salma@gamil.com</td>\n",
       "      <td>salma</td>\n",
       "      <td>gamal</td>\n",
       "      <td>female</td>\n",
       "    </tr>\n",
       "  </tbody>\n",
       "</table>\n",
       "</div>"
      ],
      "text/plain": [
       "               email    first    last  gender\n",
       "0  mohamed@gmail.com  mohamed   selim    male\n",
       "1      ali@gmail.com      ali   ahmed    male\n",
       "2     mena@gmail.com     mena  khaled  female\n",
       "3    salma@gamil.com    salma   gamal  female"
      ]
     },
     "execution_count": 244,
     "metadata": {},
     "output_type": "execute_result"
    }
   ],
   "source": [
    "df"
   ]
  },
  {
   "cell_type": "code",
   "execution_count": 245,
   "id": "aa5dc8dc",
   "metadata": {},
   "outputs": [],
   "source": [
    "df['email'] = df['email'].apply(lambda x: x.lower())"
   ]
  },
  {
   "cell_type": "code",
   "execution_count": 246,
   "id": "c6dba26f",
   "metadata": {},
   "outputs": [
    {
     "data": {
      "text/html": [
       "<div>\n",
       "<style scoped>\n",
       "    .dataframe tbody tr th:only-of-type {\n",
       "        vertical-align: middle;\n",
       "    }\n",
       "\n",
       "    .dataframe tbody tr th {\n",
       "        vertical-align: top;\n",
       "    }\n",
       "\n",
       "    .dataframe thead th {\n",
       "        text-align: right;\n",
       "    }\n",
       "</style>\n",
       "<table border=\"1\" class=\"dataframe\">\n",
       "  <thead>\n",
       "    <tr style=\"text-align: right;\">\n",
       "      <th></th>\n",
       "      <th>email</th>\n",
       "      <th>first</th>\n",
       "      <th>last</th>\n",
       "      <th>gender</th>\n",
       "    </tr>\n",
       "  </thead>\n",
       "  <tbody>\n",
       "    <tr>\n",
       "      <th>0</th>\n",
       "      <td>mohamed@gmail.com</td>\n",
       "      <td>mohamed</td>\n",
       "      <td>selim</td>\n",
       "      <td>male</td>\n",
       "    </tr>\n",
       "    <tr>\n",
       "      <th>1</th>\n",
       "      <td>ali@gmail.com</td>\n",
       "      <td>ali</td>\n",
       "      <td>ahmed</td>\n",
       "      <td>male</td>\n",
       "    </tr>\n",
       "    <tr>\n",
       "      <th>2</th>\n",
       "      <td>mena@gmail.com</td>\n",
       "      <td>mena</td>\n",
       "      <td>khaled</td>\n",
       "      <td>female</td>\n",
       "    </tr>\n",
       "    <tr>\n",
       "      <th>3</th>\n",
       "      <td>salma@gamil.com</td>\n",
       "      <td>salma</td>\n",
       "      <td>gamal</td>\n",
       "      <td>female</td>\n",
       "    </tr>\n",
       "  </tbody>\n",
       "</table>\n",
       "</div>"
      ],
      "text/plain": [
       "               email    first    last  gender\n",
       "0  mohamed@gmail.com  mohamed   selim    male\n",
       "1      ali@gmail.com      ali   ahmed    male\n",
       "2     mena@gmail.com     mena  khaled  female\n",
       "3    salma@gamil.com    salma   gamal  female"
      ]
     },
     "execution_count": 246,
     "metadata": {},
     "output_type": "execute_result"
    }
   ],
   "source": [
    "df"
   ]
  },
  {
   "cell_type": "code",
   "execution_count": 247,
   "id": "328405f5",
   "metadata": {},
   "outputs": [
    {
     "data": {
      "text/plain": [
       "0    17\n",
       "1    13\n",
       "2    14\n",
       "3    15\n",
       "Name: email, dtype: int64"
      ]
     },
     "execution_count": 247,
     "metadata": {},
     "output_type": "execute_result"
    }
   ],
   "source": [
    "df['email'].apply(len)"
   ]
  },
  {
   "cell_type": "code",
   "execution_count": 248,
   "id": "cc7d168a",
   "metadata": {},
   "outputs": [
    {
     "data": {
      "text/plain": [
       "email     4\n",
       "first     4\n",
       "last      4\n",
       "gender    4\n",
       "dtype: int64"
      ]
     },
     "execution_count": 248,
     "metadata": {},
     "output_type": "execute_result"
    }
   ],
   "source": [
    "df.apply(len)"
   ]
  },
  {
   "cell_type": "code",
   "execution_count": 249,
   "id": "b978bce9",
   "metadata": {},
   "outputs": [
    {
     "data": {
      "text/plain": [
       "4"
      ]
     },
     "execution_count": 249,
     "metadata": {},
     "output_type": "execute_result"
    }
   ],
   "source": [
    "len(df['email'])"
   ]
  },
  {
   "cell_type": "code",
   "execution_count": 250,
   "id": "a18ad7c2",
   "metadata": {},
   "outputs": [
    {
     "data": {
      "text/plain": [
       "email     ali@gmail.com\n",
       "first               ali\n",
       "last              ahmed\n",
       "gender           female\n",
       "dtype: object"
      ]
     },
     "execution_count": 250,
     "metadata": {},
     "output_type": "execute_result"
    }
   ],
   "source": [
    "df.apply(pd.Series.min)"
   ]
  },
  {
   "cell_type": "code",
   "execution_count": 251,
   "id": "8aac511a",
   "metadata": {
    "scrolled": true
   },
   "outputs": [
    {
     "data": {
      "text/plain": [
       "email     ali@gmail.com\n",
       "first               ali\n",
       "last              ahmed\n",
       "gender           female\n",
       "dtype: object"
      ]
     },
     "execution_count": 251,
     "metadata": {},
     "output_type": "execute_result"
    }
   ],
   "source": [
    "df.apply(lambda x: x.min())"
   ]
  },
  {
   "cell_type": "markdown",
   "id": "80b190a7",
   "metadata": {},
   "source": [
    "# applymap function"
   ]
  },
  {
   "cell_type": "code",
   "execution_count": 252,
   "id": "d64453fd",
   "metadata": {
    "scrolled": true
   },
   "outputs": [
    {
     "data": {
      "text/html": [
       "<div>\n",
       "<style scoped>\n",
       "    .dataframe tbody tr th:only-of-type {\n",
       "        vertical-align: middle;\n",
       "    }\n",
       "\n",
       "    .dataframe tbody tr th {\n",
       "        vertical-align: top;\n",
       "    }\n",
       "\n",
       "    .dataframe thead th {\n",
       "        text-align: right;\n",
       "    }\n",
       "</style>\n",
       "<table border=\"1\" class=\"dataframe\">\n",
       "  <thead>\n",
       "    <tr style=\"text-align: right;\">\n",
       "      <th></th>\n",
       "      <th>email</th>\n",
       "      <th>first</th>\n",
       "      <th>last</th>\n",
       "      <th>gender</th>\n",
       "    </tr>\n",
       "  </thead>\n",
       "  <tbody>\n",
       "    <tr>\n",
       "      <th>0</th>\n",
       "      <td>17</td>\n",
       "      <td>7</td>\n",
       "      <td>5</td>\n",
       "      <td>4</td>\n",
       "    </tr>\n",
       "    <tr>\n",
       "      <th>1</th>\n",
       "      <td>13</td>\n",
       "      <td>3</td>\n",
       "      <td>5</td>\n",
       "      <td>4</td>\n",
       "    </tr>\n",
       "    <tr>\n",
       "      <th>2</th>\n",
       "      <td>14</td>\n",
       "      <td>4</td>\n",
       "      <td>6</td>\n",
       "      <td>6</td>\n",
       "    </tr>\n",
       "    <tr>\n",
       "      <th>3</th>\n",
       "      <td>15</td>\n",
       "      <td>5</td>\n",
       "      <td>5</td>\n",
       "      <td>6</td>\n",
       "    </tr>\n",
       "  </tbody>\n",
       "</table>\n",
       "</div>"
      ],
      "text/plain": [
       "   email  first  last  gender\n",
       "0     17      7     5       4\n",
       "1     13      3     5       4\n",
       "2     14      4     6       6\n",
       "3     15      5     5       6"
      ]
     },
     "execution_count": 252,
     "metadata": {},
     "output_type": "execute_result"
    }
   ],
   "source": [
    "# applymap work only on dateframe\n",
    "df.applymap(len)"
   ]
  },
  {
   "cell_type": "code",
   "execution_count": 253,
   "id": "6d93226d",
   "metadata": {},
   "outputs": [
    {
     "data": {
      "text/html": [
       "<div>\n",
       "<style scoped>\n",
       "    .dataframe tbody tr th:only-of-type {\n",
       "        vertical-align: middle;\n",
       "    }\n",
       "\n",
       "    .dataframe tbody tr th {\n",
       "        vertical-align: top;\n",
       "    }\n",
       "\n",
       "    .dataframe thead th {\n",
       "        text-align: right;\n",
       "    }\n",
       "</style>\n",
       "<table border=\"1\" class=\"dataframe\">\n",
       "  <thead>\n",
       "    <tr style=\"text-align: right;\">\n",
       "      <th></th>\n",
       "      <th>email</th>\n",
       "      <th>first</th>\n",
       "      <th>last</th>\n",
       "      <th>gender</th>\n",
       "    </tr>\n",
       "  </thead>\n",
       "  <tbody>\n",
       "    <tr>\n",
       "      <th>0</th>\n",
       "      <td>Mohamed@gmail.com</td>\n",
       "      <td>Mohamed</td>\n",
       "      <td>Selim</td>\n",
       "      <td>Male</td>\n",
       "    </tr>\n",
       "    <tr>\n",
       "      <th>1</th>\n",
       "      <td>Ali@gmail.com</td>\n",
       "      <td>Ali</td>\n",
       "      <td>Ahmed</td>\n",
       "      <td>Male</td>\n",
       "    </tr>\n",
       "    <tr>\n",
       "      <th>2</th>\n",
       "      <td>Mena@gmail.com</td>\n",
       "      <td>Mena</td>\n",
       "      <td>Khaled</td>\n",
       "      <td>Female</td>\n",
       "    </tr>\n",
       "    <tr>\n",
       "      <th>3</th>\n",
       "      <td>Salma@gamil.com</td>\n",
       "      <td>Salma</td>\n",
       "      <td>Gamal</td>\n",
       "      <td>Female</td>\n",
       "    </tr>\n",
       "  </tbody>\n",
       "</table>\n",
       "</div>"
      ],
      "text/plain": [
       "               email    first    last  gender\n",
       "0  Mohamed@gmail.com  Mohamed   Selim    Male\n",
       "1      Ali@gmail.com      Ali   Ahmed    Male\n",
       "2     Mena@gmail.com     Mena  Khaled  Female\n",
       "3    Salma@gamil.com    Salma   Gamal  Female"
      ]
     },
     "execution_count": 253,
     "metadata": {},
     "output_type": "execute_result"
    }
   ],
   "source": [
    "df.applymap(str.capitalize)"
   ]
  },
  {
   "cell_type": "code",
   "execution_count": 254,
   "id": "115db553",
   "metadata": {},
   "outputs": [
    {
     "data": {
      "text/html": [
       "<div>\n",
       "<style scoped>\n",
       "    .dataframe tbody tr th:only-of-type {\n",
       "        vertical-align: middle;\n",
       "    }\n",
       "\n",
       "    .dataframe tbody tr th {\n",
       "        vertical-align: top;\n",
       "    }\n",
       "\n",
       "    .dataframe thead th {\n",
       "        text-align: right;\n",
       "    }\n",
       "</style>\n",
       "<table border=\"1\" class=\"dataframe\">\n",
       "  <thead>\n",
       "    <tr style=\"text-align: right;\">\n",
       "      <th></th>\n",
       "      <th>email</th>\n",
       "      <th>first</th>\n",
       "      <th>last</th>\n",
       "      <th>gender</th>\n",
       "    </tr>\n",
       "  </thead>\n",
       "  <tbody>\n",
       "    <tr>\n",
       "      <th>0</th>\n",
       "      <td>mohamed@gmail.com</td>\n",
       "      <td>mohamed</td>\n",
       "      <td>selim</td>\n",
       "      <td>male</td>\n",
       "    </tr>\n",
       "    <tr>\n",
       "      <th>1</th>\n",
       "      <td>ali@gmail.com</td>\n",
       "      <td>ali</td>\n",
       "      <td>ahmed</td>\n",
       "      <td>male</td>\n",
       "    </tr>\n",
       "    <tr>\n",
       "      <th>2</th>\n",
       "      <td>mena@gmail.com</td>\n",
       "      <td>mena</td>\n",
       "      <td>khaled</td>\n",
       "      <td>female</td>\n",
       "    </tr>\n",
       "    <tr>\n",
       "      <th>3</th>\n",
       "      <td>salma@gamil.com</td>\n",
       "      <td>salma</td>\n",
       "      <td>gamal</td>\n",
       "      <td>female</td>\n",
       "    </tr>\n",
       "  </tbody>\n",
       "</table>\n",
       "</div>"
      ],
      "text/plain": [
       "               email    first    last  gender\n",
       "0  mohamed@gmail.com  mohamed   selim    male\n",
       "1      ali@gmail.com      ali   ahmed    male\n",
       "2     mena@gmail.com     mena  khaled  female\n",
       "3    salma@gamil.com    salma   gamal  female"
      ]
     },
     "execution_count": 254,
     "metadata": {},
     "output_type": "execute_result"
    }
   ],
   "source": [
    "df"
   ]
  },
  {
   "cell_type": "markdown",
   "id": "4234f738",
   "metadata": {},
   "source": [
    "# map function"
   ]
  },
  {
   "cell_type": "code",
   "execution_count": 255,
   "id": "da29c109",
   "metadata": {},
   "outputs": [
    {
     "data": {
      "text/plain": [
       "0     NaN\n",
       "1    jone\n",
       "2    hepa\n",
       "3     NaN\n",
       "Name: first, dtype: object"
      ]
     },
     "execution_count": 255,
     "metadata": {},
     "output_type": "execute_result"
    }
   ],
   "source": [
    "# map func work only on series\n",
    "df['first'].map({'ali': 'jone', 'mena': \"hepa\"})"
   ]
  },
  {
   "cell_type": "code",
   "execution_count": 256,
   "id": "2238bf62",
   "metadata": {},
   "outputs": [
    {
     "data": {
      "text/plain": [
       "0    mohamed\n",
       "1       jone\n",
       "2       mena\n",
       "3      salma\n",
       "Name: first, dtype: object"
      ]
     },
     "execution_count": 256,
     "metadata": {},
     "output_type": "execute_result"
    }
   ],
   "source": [
    "# we can use replace instead of map because can out nan cells\n",
    "df['first'].replace({'ali': 'jone', 'heba': \"mena\"})"
   ]
  },
  {
   "cell_type": "code",
   "execution_count": 257,
   "id": "1b5f1707",
   "metadata": {},
   "outputs": [
    {
     "data": {
      "text/html": [
       "<div>\n",
       "<style scoped>\n",
       "    .dataframe tbody tr th:only-of-type {\n",
       "        vertical-align: middle;\n",
       "    }\n",
       "\n",
       "    .dataframe tbody tr th {\n",
       "        vertical-align: top;\n",
       "    }\n",
       "\n",
       "    .dataframe thead th {\n",
       "        text-align: right;\n",
       "    }\n",
       "</style>\n",
       "<table border=\"1\" class=\"dataframe\">\n",
       "  <thead>\n",
       "    <tr style=\"text-align: right;\">\n",
       "      <th></th>\n",
       "      <th>email</th>\n",
       "      <th>first</th>\n",
       "      <th>last</th>\n",
       "      <th>gender</th>\n",
       "    </tr>\n",
       "  </thead>\n",
       "  <tbody>\n",
       "    <tr>\n",
       "      <th>0</th>\n",
       "      <td>mohamed@gmail.com</td>\n",
       "      <td>mohamed</td>\n",
       "      <td>selim</td>\n",
       "      <td>male</td>\n",
       "    </tr>\n",
       "    <tr>\n",
       "      <th>1</th>\n",
       "      <td>ali@gmail.com</td>\n",
       "      <td>ali</td>\n",
       "      <td>ahmed</td>\n",
       "      <td>male</td>\n",
       "    </tr>\n",
       "    <tr>\n",
       "      <th>2</th>\n",
       "      <td>mena@gmail.com</td>\n",
       "      <td>mena</td>\n",
       "      <td>khaled</td>\n",
       "      <td>female</td>\n",
       "    </tr>\n",
       "    <tr>\n",
       "      <th>3</th>\n",
       "      <td>salma@gamil.com</td>\n",
       "      <td>salma</td>\n",
       "      <td>gamal</td>\n",
       "      <td>female</td>\n",
       "    </tr>\n",
       "  </tbody>\n",
       "</table>\n",
       "</div>"
      ],
      "text/plain": [
       "               email    first    last  gender\n",
       "0  mohamed@gmail.com  mohamed   selim    male\n",
       "1      ali@gmail.com      ali   ahmed    male\n",
       "2     mena@gmail.com     mena  khaled  female\n",
       "3    salma@gamil.com    salma   gamal  female"
      ]
     },
     "execution_count": 257,
     "metadata": {},
     "output_type": "execute_result"
    }
   ],
   "source": [
    "df"
   ]
  },
  {
   "cell_type": "code",
   "execution_count": 258,
   "id": "ade9e3b1",
   "metadata": {},
   "outputs": [],
   "source": [
    "df['full_name'] = df['first'] + ' ' + df['last']"
   ]
  },
  {
   "cell_type": "code",
   "execution_count": 259,
   "id": "e7bb4d2f",
   "metadata": {},
   "outputs": [
    {
     "data": {
      "text/html": [
       "<div>\n",
       "<style scoped>\n",
       "    .dataframe tbody tr th:only-of-type {\n",
       "        vertical-align: middle;\n",
       "    }\n",
       "\n",
       "    .dataframe tbody tr th {\n",
       "        vertical-align: top;\n",
       "    }\n",
       "\n",
       "    .dataframe thead th {\n",
       "        text-align: right;\n",
       "    }\n",
       "</style>\n",
       "<table border=\"1\" class=\"dataframe\">\n",
       "  <thead>\n",
       "    <tr style=\"text-align: right;\">\n",
       "      <th></th>\n",
       "      <th>email</th>\n",
       "      <th>first</th>\n",
       "      <th>last</th>\n",
       "      <th>gender</th>\n",
       "      <th>full_name</th>\n",
       "    </tr>\n",
       "  </thead>\n",
       "  <tbody>\n",
       "    <tr>\n",
       "      <th>0</th>\n",
       "      <td>mohamed@gmail.com</td>\n",
       "      <td>mohamed</td>\n",
       "      <td>selim</td>\n",
       "      <td>male</td>\n",
       "      <td>mohamed selim</td>\n",
       "    </tr>\n",
       "    <tr>\n",
       "      <th>1</th>\n",
       "      <td>ali@gmail.com</td>\n",
       "      <td>ali</td>\n",
       "      <td>ahmed</td>\n",
       "      <td>male</td>\n",
       "      <td>ali ahmed</td>\n",
       "    </tr>\n",
       "    <tr>\n",
       "      <th>2</th>\n",
       "      <td>mena@gmail.com</td>\n",
       "      <td>mena</td>\n",
       "      <td>khaled</td>\n",
       "      <td>female</td>\n",
       "      <td>mena khaled</td>\n",
       "    </tr>\n",
       "    <tr>\n",
       "      <th>3</th>\n",
       "      <td>salma@gamil.com</td>\n",
       "      <td>salma</td>\n",
       "      <td>gamal</td>\n",
       "      <td>female</td>\n",
       "      <td>salma gamal</td>\n",
       "    </tr>\n",
       "  </tbody>\n",
       "</table>\n",
       "</div>"
      ],
      "text/plain": [
       "               email    first    last  gender      full_name\n",
       "0  mohamed@gmail.com  mohamed   selim    male  mohamed selim\n",
       "1      ali@gmail.com      ali   ahmed    male      ali ahmed\n",
       "2     mena@gmail.com     mena  khaled  female    mena khaled\n",
       "3    salma@gamil.com    salma   gamal  female    salma gamal"
      ]
     },
     "execution_count": 259,
     "metadata": {},
     "output_type": "execute_result"
    }
   ],
   "source": [
    "df"
   ]
  },
  {
   "cell_type": "markdown",
   "id": "ed9b4927",
   "metadata": {},
   "source": [
    "# Drop Columns"
   ]
  },
  {
   "cell_type": "code",
   "execution_count": 283,
   "id": "839818b0",
   "metadata": {},
   "outputs": [],
   "source": [
    "df.drop(columns=['first', 'last'], inplace=True)"
   ]
  },
  {
   "cell_type": "code",
   "execution_count": 284,
   "id": "6db4ee7e",
   "metadata": {},
   "outputs": [
    {
     "data": {
      "text/html": [
       "<div>\n",
       "<style scoped>\n",
       "    .dataframe tbody tr th:only-of-type {\n",
       "        vertical-align: middle;\n",
       "    }\n",
       "\n",
       "    .dataframe tbody tr th {\n",
       "        vertical-align: top;\n",
       "    }\n",
       "\n",
       "    .dataframe thead th {\n",
       "        text-align: right;\n",
       "    }\n",
       "</style>\n",
       "<table border=\"1\" class=\"dataframe\">\n",
       "  <thead>\n",
       "    <tr style=\"text-align: right;\">\n",
       "      <th></th>\n",
       "      <th>email</th>\n",
       "      <th>gender</th>\n",
       "      <th>full_name</th>\n",
       "    </tr>\n",
       "  </thead>\n",
       "  <tbody>\n",
       "    <tr>\n",
       "      <th>0</th>\n",
       "      <td>mohamed@gmail.com</td>\n",
       "      <td>male</td>\n",
       "      <td>mohamed selim</td>\n",
       "    </tr>\n",
       "    <tr>\n",
       "      <th>1</th>\n",
       "      <td>ali@gmail.com</td>\n",
       "      <td>male</td>\n",
       "      <td>ali ahmed</td>\n",
       "    </tr>\n",
       "    <tr>\n",
       "      <th>2</th>\n",
       "      <td>mena@gmail.com</td>\n",
       "      <td>female</td>\n",
       "      <td>mena khaled</td>\n",
       "    </tr>\n",
       "    <tr>\n",
       "      <th>3</th>\n",
       "      <td>salma@gamil.com</td>\n",
       "      <td>female</td>\n",
       "      <td>salma gamal</td>\n",
       "    </tr>\n",
       "  </tbody>\n",
       "</table>\n",
       "</div>"
      ],
      "text/plain": [
       "               email  gender      full_name\n",
       "0  mohamed@gmail.com    male  mohamed selim\n",
       "1      ali@gmail.com    male      ali ahmed\n",
       "2     mena@gmail.com  female    mena khaled\n",
       "3    salma@gamil.com  female    salma gamal"
      ]
     },
     "execution_count": 284,
     "metadata": {},
     "output_type": "execute_result"
    }
   ],
   "source": [
    "df"
   ]
  },
  {
   "cell_type": "code",
   "execution_count": 289,
   "id": "b8de1ee7",
   "metadata": {},
   "outputs": [
    {
     "data": {
      "text/html": [
       "<div>\n",
       "<style scoped>\n",
       "    .dataframe tbody tr th:only-of-type {\n",
       "        vertical-align: middle;\n",
       "    }\n",
       "\n",
       "    .dataframe tbody tr th {\n",
       "        vertical-align: top;\n",
       "    }\n",
       "\n",
       "    .dataframe thead th {\n",
       "        text-align: right;\n",
       "    }\n",
       "</style>\n",
       "<table border=\"1\" class=\"dataframe\">\n",
       "  <thead>\n",
       "    <tr style=\"text-align: right;\">\n",
       "      <th></th>\n",
       "      <th>0</th>\n",
       "      <th>1</th>\n",
       "    </tr>\n",
       "  </thead>\n",
       "  <tbody>\n",
       "    <tr>\n",
       "      <th>0</th>\n",
       "      <td>mohamed</td>\n",
       "      <td>selim</td>\n",
       "    </tr>\n",
       "    <tr>\n",
       "      <th>1</th>\n",
       "      <td>ali</td>\n",
       "      <td>ahmed</td>\n",
       "    </tr>\n",
       "    <tr>\n",
       "      <th>2</th>\n",
       "      <td>mena</td>\n",
       "      <td>khaled</td>\n",
       "    </tr>\n",
       "    <tr>\n",
       "      <th>3</th>\n",
       "      <td>salma</td>\n",
       "      <td>gamal</td>\n",
       "    </tr>\n",
       "  </tbody>\n",
       "</table>\n",
       "</div>"
      ],
      "text/plain": [
       "         0       1\n",
       "0  mohamed   selim\n",
       "1      ali   ahmed\n",
       "2     mena  khaled\n",
       "3    salma   gamal"
      ]
     },
     "execution_count": 289,
     "metadata": {},
     "output_type": "execute_result"
    }
   ],
   "source": [
    "# here we can get first name last name from full name by split function\n",
    "# (expand= True) => to convert result to datafrom instead of array\n",
    "df['full_name'].str.split(' ', expand=True)"
   ]
  },
  {
   "cell_type": "code",
   "execution_count": 291,
   "id": "770e04e2",
   "metadata": {},
   "outputs": [],
   "source": [
    "df[['first', 'last']] = df['full_name'].str.split(' ', expand=True)"
   ]
  },
  {
   "cell_type": "code",
   "execution_count": 292,
   "id": "c28f2c8a",
   "metadata": {},
   "outputs": [
    {
     "data": {
      "text/html": [
       "<div>\n",
       "<style scoped>\n",
       "    .dataframe tbody tr th:only-of-type {\n",
       "        vertical-align: middle;\n",
       "    }\n",
       "\n",
       "    .dataframe tbody tr th {\n",
       "        vertical-align: top;\n",
       "    }\n",
       "\n",
       "    .dataframe thead th {\n",
       "        text-align: right;\n",
       "    }\n",
       "</style>\n",
       "<table border=\"1\" class=\"dataframe\">\n",
       "  <thead>\n",
       "    <tr style=\"text-align: right;\">\n",
       "      <th></th>\n",
       "      <th>email</th>\n",
       "      <th>gender</th>\n",
       "      <th>full_name</th>\n",
       "      <th>first</th>\n",
       "      <th>last</th>\n",
       "    </tr>\n",
       "  </thead>\n",
       "  <tbody>\n",
       "    <tr>\n",
       "      <th>0</th>\n",
       "      <td>mohamed@gmail.com</td>\n",
       "      <td>male</td>\n",
       "      <td>mohamed selim</td>\n",
       "      <td>mohamed</td>\n",
       "      <td>selim</td>\n",
       "    </tr>\n",
       "    <tr>\n",
       "      <th>1</th>\n",
       "      <td>ali@gmail.com</td>\n",
       "      <td>male</td>\n",
       "      <td>ali ahmed</td>\n",
       "      <td>ali</td>\n",
       "      <td>ahmed</td>\n",
       "    </tr>\n",
       "    <tr>\n",
       "      <th>2</th>\n",
       "      <td>mena@gmail.com</td>\n",
       "      <td>female</td>\n",
       "      <td>mena khaled</td>\n",
       "      <td>mena</td>\n",
       "      <td>khaled</td>\n",
       "    </tr>\n",
       "    <tr>\n",
       "      <th>3</th>\n",
       "      <td>salma@gamil.com</td>\n",
       "      <td>female</td>\n",
       "      <td>salma gamal</td>\n",
       "      <td>salma</td>\n",
       "      <td>gamal</td>\n",
       "    </tr>\n",
       "  </tbody>\n",
       "</table>\n",
       "</div>"
      ],
      "text/plain": [
       "               email  gender      full_name    first    last\n",
       "0  mohamed@gmail.com    male  mohamed selim  mohamed   selim\n",
       "1      ali@gmail.com    male      ali ahmed      ali   ahmed\n",
       "2     mena@gmail.com  female    mena khaled     mena  khaled\n",
       "3    salma@gamil.com  female    salma gamal    salma   gamal"
      ]
     },
     "execution_count": 292,
     "metadata": {},
     "output_type": "execute_result"
    }
   ],
   "source": [
    "df"
   ]
  },
  {
   "cell_type": "markdown",
   "id": "442e8ed9",
   "metadata": {},
   "source": [
    "# append rows"
   ]
  },
  {
   "cell_type": "code",
   "execution_count": 295,
   "id": "17bf96c5",
   "metadata": {},
   "outputs": [
    {
     "name": "stderr",
     "output_type": "stream",
     "text": [
      "C:\\Users\\MAKA_PC\\AppData\\Local\\Temp\\ipykernel_1156\\307400728.py:1: FutureWarning: The frame.append method is deprecated and will be removed from pandas in a future version. Use pandas.concat instead.\n",
      "  df.append({'first': 'wael'}, ignore_index=True)\n"
     ]
    },
    {
     "data": {
      "text/html": [
       "<div>\n",
       "<style scoped>\n",
       "    .dataframe tbody tr th:only-of-type {\n",
       "        vertical-align: middle;\n",
       "    }\n",
       "\n",
       "    .dataframe tbody tr th {\n",
       "        vertical-align: top;\n",
       "    }\n",
       "\n",
       "    .dataframe thead th {\n",
       "        text-align: right;\n",
       "    }\n",
       "</style>\n",
       "<table border=\"1\" class=\"dataframe\">\n",
       "  <thead>\n",
       "    <tr style=\"text-align: right;\">\n",
       "      <th></th>\n",
       "      <th>email</th>\n",
       "      <th>gender</th>\n",
       "      <th>full_name</th>\n",
       "      <th>first</th>\n",
       "      <th>last</th>\n",
       "    </tr>\n",
       "  </thead>\n",
       "  <tbody>\n",
       "    <tr>\n",
       "      <th>0</th>\n",
       "      <td>mohamed@gmail.com</td>\n",
       "      <td>male</td>\n",
       "      <td>mohamed selim</td>\n",
       "      <td>mohamed</td>\n",
       "      <td>selim</td>\n",
       "    </tr>\n",
       "    <tr>\n",
       "      <th>1</th>\n",
       "      <td>ali@gmail.com</td>\n",
       "      <td>male</td>\n",
       "      <td>ali ahmed</td>\n",
       "      <td>ali</td>\n",
       "      <td>ahmed</td>\n",
       "    </tr>\n",
       "    <tr>\n",
       "      <th>2</th>\n",
       "      <td>mena@gmail.com</td>\n",
       "      <td>female</td>\n",
       "      <td>mena khaled</td>\n",
       "      <td>mena</td>\n",
       "      <td>khaled</td>\n",
       "    </tr>\n",
       "    <tr>\n",
       "      <th>3</th>\n",
       "      <td>salma@gamil.com</td>\n",
       "      <td>female</td>\n",
       "      <td>salma gamal</td>\n",
       "      <td>salma</td>\n",
       "      <td>gamal</td>\n",
       "    </tr>\n",
       "    <tr>\n",
       "      <th>4</th>\n",
       "      <td>NaN</td>\n",
       "      <td>NaN</td>\n",
       "      <td>NaN</td>\n",
       "      <td>wael</td>\n",
       "      <td>NaN</td>\n",
       "    </tr>\n",
       "  </tbody>\n",
       "</table>\n",
       "</div>"
      ],
      "text/plain": [
       "               email  gender      full_name    first    last\n",
       "0  mohamed@gmail.com    male  mohamed selim  mohamed   selim\n",
       "1      ali@gmail.com    male      ali ahmed      ali   ahmed\n",
       "2     mena@gmail.com  female    mena khaled     mena  khaled\n",
       "3    salma@gamil.com  female    salma gamal    salma   gamal\n",
       "4                NaN     NaN            NaN     wael     NaN"
      ]
     },
     "execution_count": 295,
     "metadata": {},
     "output_type": "execute_result"
    }
   ],
   "source": [
    "df.append({'first': 'wael'}, ignore_index=True)"
   ]
  },
  {
   "cell_type": "code",
   "execution_count": 297,
   "id": "dd368314",
   "metadata": {},
   "outputs": [],
   "source": [
    "people = {\n",
    "    'first': ['gemi', 'assem'],\n",
    "    'last': ['magdi', 'pasel'],\n",
    "    'email' : ['assem@gmail.com', 'pasel@gmail.com'],\n",
    "    'gender': ['male', 'male']\n",
    "}\n",
    "\n",
    "df2 = pd.DataFrame(people)"
   ]
  },
  {
   "cell_type": "code",
   "execution_count": 298,
   "id": "a82b8189",
   "metadata": {},
   "outputs": [
    {
     "data": {
      "text/html": [
       "<div>\n",
       "<style scoped>\n",
       "    .dataframe tbody tr th:only-of-type {\n",
       "        vertical-align: middle;\n",
       "    }\n",
       "\n",
       "    .dataframe tbody tr th {\n",
       "        vertical-align: top;\n",
       "    }\n",
       "\n",
       "    .dataframe thead th {\n",
       "        text-align: right;\n",
       "    }\n",
       "</style>\n",
       "<table border=\"1\" class=\"dataframe\">\n",
       "  <thead>\n",
       "    <tr style=\"text-align: right;\">\n",
       "      <th></th>\n",
       "      <th>first</th>\n",
       "      <th>last</th>\n",
       "      <th>email</th>\n",
       "      <th>gender</th>\n",
       "    </tr>\n",
       "  </thead>\n",
       "  <tbody>\n",
       "    <tr>\n",
       "      <th>0</th>\n",
       "      <td>gemi</td>\n",
       "      <td>magdi</td>\n",
       "      <td>assem@gmail.com</td>\n",
       "      <td>male</td>\n",
       "    </tr>\n",
       "    <tr>\n",
       "      <th>1</th>\n",
       "      <td>assem</td>\n",
       "      <td>pasel</td>\n",
       "      <td>pasel@gmail.com</td>\n",
       "      <td>male</td>\n",
       "    </tr>\n",
       "  </tbody>\n",
       "</table>\n",
       "</div>"
      ],
      "text/plain": [
       "   first   last            email gender\n",
       "0   gemi  magdi  assem@gmail.com   male\n",
       "1  assem  pasel  pasel@gmail.com   male"
      ]
     },
     "execution_count": 298,
     "metadata": {},
     "output_type": "execute_result"
    }
   ],
   "source": [
    "df2"
   ]
  },
  {
   "cell_type": "code",
   "execution_count": 301,
   "id": "27232ac1",
   "metadata": {},
   "outputs": [
    {
     "name": "stderr",
     "output_type": "stream",
     "text": [
      "C:\\Users\\MAKA_PC\\AppData\\Local\\Temp\\ipykernel_1156\\855908984.py:1: FutureWarning: The frame.append method is deprecated and will be removed from pandas in a future version. Use pandas.concat instead.\n",
      "  df.append(df2, ignore_index=True, sort=True)\n"
     ]
    },
    {
     "data": {
      "text/html": [
       "<div>\n",
       "<style scoped>\n",
       "    .dataframe tbody tr th:only-of-type {\n",
       "        vertical-align: middle;\n",
       "    }\n",
       "\n",
       "    .dataframe tbody tr th {\n",
       "        vertical-align: top;\n",
       "    }\n",
       "\n",
       "    .dataframe thead th {\n",
       "        text-align: right;\n",
       "    }\n",
       "</style>\n",
       "<table border=\"1\" class=\"dataframe\">\n",
       "  <thead>\n",
       "    <tr style=\"text-align: right;\">\n",
       "      <th></th>\n",
       "      <th>email</th>\n",
       "      <th>first</th>\n",
       "      <th>full_name</th>\n",
       "      <th>gender</th>\n",
       "      <th>last</th>\n",
       "    </tr>\n",
       "  </thead>\n",
       "  <tbody>\n",
       "    <tr>\n",
       "      <th>0</th>\n",
       "      <td>mohamed@gmail.com</td>\n",
       "      <td>mohamed</td>\n",
       "      <td>mohamed selim</td>\n",
       "      <td>male</td>\n",
       "      <td>selim</td>\n",
       "    </tr>\n",
       "    <tr>\n",
       "      <th>1</th>\n",
       "      <td>ali@gmail.com</td>\n",
       "      <td>ali</td>\n",
       "      <td>ali ahmed</td>\n",
       "      <td>male</td>\n",
       "      <td>ahmed</td>\n",
       "    </tr>\n",
       "    <tr>\n",
       "      <th>2</th>\n",
       "      <td>mena@gmail.com</td>\n",
       "      <td>mena</td>\n",
       "      <td>mena khaled</td>\n",
       "      <td>female</td>\n",
       "      <td>khaled</td>\n",
       "    </tr>\n",
       "    <tr>\n",
       "      <th>3</th>\n",
       "      <td>salma@gamil.com</td>\n",
       "      <td>salma</td>\n",
       "      <td>salma gamal</td>\n",
       "      <td>female</td>\n",
       "      <td>gamal</td>\n",
       "    </tr>\n",
       "    <tr>\n",
       "      <th>4</th>\n",
       "      <td>assem@gmail.com</td>\n",
       "      <td>gemi</td>\n",
       "      <td>NaN</td>\n",
       "      <td>male</td>\n",
       "      <td>magdi</td>\n",
       "    </tr>\n",
       "    <tr>\n",
       "      <th>5</th>\n",
       "      <td>pasel@gmail.com</td>\n",
       "      <td>assem</td>\n",
       "      <td>NaN</td>\n",
       "      <td>male</td>\n",
       "      <td>pasel</td>\n",
       "    </tr>\n",
       "  </tbody>\n",
       "</table>\n",
       "</div>"
      ],
      "text/plain": [
       "               email    first      full_name  gender    last\n",
       "0  mohamed@gmail.com  mohamed  mohamed selim    male   selim\n",
       "1      ali@gmail.com      ali      ali ahmed    male   ahmed\n",
       "2     mena@gmail.com     mena    mena khaled  female  khaled\n",
       "3    salma@gamil.com    salma    salma gamal  female   gamal\n",
       "4    assem@gmail.com     gemi            NaN    male   magdi\n",
       "5    pasel@gmail.com    assem            NaN    male   pasel"
      ]
     },
     "execution_count": 301,
     "metadata": {},
     "output_type": "execute_result"
    }
   ],
   "source": [
    "df.append(df2, ignore_index=True, sort=True)"
   ]
  },
  {
   "cell_type": "code",
   "execution_count": 302,
   "id": "5a89227f",
   "metadata": {},
   "outputs": [
    {
     "name": "stderr",
     "output_type": "stream",
     "text": [
      "C:\\Users\\MAKA_PC\\AppData\\Local\\Temp\\ipykernel_1156\\3370980109.py:1: FutureWarning: The frame.append method is deprecated and will be removed from pandas in a future version. Use pandas.concat instead.\n",
      "  df = df.append(df2, ignore_index=True, sort=False)\n"
     ]
    }
   ],
   "source": [
    "df = df.append(df2, ignore_index=True, sort=False)"
   ]
  },
  {
   "cell_type": "code",
   "execution_count": 303,
   "id": "f000e9d5",
   "metadata": {},
   "outputs": [
    {
     "data": {
      "text/html": [
       "<div>\n",
       "<style scoped>\n",
       "    .dataframe tbody tr th:only-of-type {\n",
       "        vertical-align: middle;\n",
       "    }\n",
       "\n",
       "    .dataframe tbody tr th {\n",
       "        vertical-align: top;\n",
       "    }\n",
       "\n",
       "    .dataframe thead th {\n",
       "        text-align: right;\n",
       "    }\n",
       "</style>\n",
       "<table border=\"1\" class=\"dataframe\">\n",
       "  <thead>\n",
       "    <tr style=\"text-align: right;\">\n",
       "      <th></th>\n",
       "      <th>email</th>\n",
       "      <th>gender</th>\n",
       "      <th>full_name</th>\n",
       "      <th>first</th>\n",
       "      <th>last</th>\n",
       "    </tr>\n",
       "  </thead>\n",
       "  <tbody>\n",
       "    <tr>\n",
       "      <th>0</th>\n",
       "      <td>mohamed@gmail.com</td>\n",
       "      <td>male</td>\n",
       "      <td>mohamed selim</td>\n",
       "      <td>mohamed</td>\n",
       "      <td>selim</td>\n",
       "    </tr>\n",
       "    <tr>\n",
       "      <th>1</th>\n",
       "      <td>ali@gmail.com</td>\n",
       "      <td>male</td>\n",
       "      <td>ali ahmed</td>\n",
       "      <td>ali</td>\n",
       "      <td>ahmed</td>\n",
       "    </tr>\n",
       "    <tr>\n",
       "      <th>2</th>\n",
       "      <td>mena@gmail.com</td>\n",
       "      <td>female</td>\n",
       "      <td>mena khaled</td>\n",
       "      <td>mena</td>\n",
       "      <td>khaled</td>\n",
       "    </tr>\n",
       "    <tr>\n",
       "      <th>3</th>\n",
       "      <td>salma@gamil.com</td>\n",
       "      <td>female</td>\n",
       "      <td>salma gamal</td>\n",
       "      <td>salma</td>\n",
       "      <td>gamal</td>\n",
       "    </tr>\n",
       "    <tr>\n",
       "      <th>4</th>\n",
       "      <td>assem@gmail.com</td>\n",
       "      <td>male</td>\n",
       "      <td>NaN</td>\n",
       "      <td>gemi</td>\n",
       "      <td>magdi</td>\n",
       "    </tr>\n",
       "    <tr>\n",
       "      <th>5</th>\n",
       "      <td>pasel@gmail.com</td>\n",
       "      <td>male</td>\n",
       "      <td>NaN</td>\n",
       "      <td>assem</td>\n",
       "      <td>pasel</td>\n",
       "    </tr>\n",
       "  </tbody>\n",
       "</table>\n",
       "</div>"
      ],
      "text/plain": [
       "               email  gender      full_name    first    last\n",
       "0  mohamed@gmail.com    male  mohamed selim  mohamed   selim\n",
       "1      ali@gmail.com    male      ali ahmed      ali   ahmed\n",
       "2     mena@gmail.com  female    mena khaled     mena  khaled\n",
       "3    salma@gamil.com  female    salma gamal    salma   gamal\n",
       "4    assem@gmail.com    male            NaN     gemi   magdi\n",
       "5    pasel@gmail.com    male            NaN    assem   pasel"
      ]
     },
     "execution_count": 303,
     "metadata": {},
     "output_type": "execute_result"
    }
   ],
   "source": [
    "df"
   ]
  },
  {
   "cell_type": "markdown",
   "id": "a50df511",
   "metadata": {},
   "source": [
    "# Drop row based on index"
   ]
  },
  {
   "cell_type": "code",
   "execution_count": 306,
   "id": "66ca7746",
   "metadata": {},
   "outputs": [],
   "source": [
    "df.drop(index=4, inplace=True)"
   ]
  },
  {
   "cell_type": "code",
   "execution_count": 307,
   "id": "5baf8974",
   "metadata": {},
   "outputs": [
    {
     "data": {
      "text/html": [
       "<div>\n",
       "<style scoped>\n",
       "    .dataframe tbody tr th:only-of-type {\n",
       "        vertical-align: middle;\n",
       "    }\n",
       "\n",
       "    .dataframe tbody tr th {\n",
       "        vertical-align: top;\n",
       "    }\n",
       "\n",
       "    .dataframe thead th {\n",
       "        text-align: right;\n",
       "    }\n",
       "</style>\n",
       "<table border=\"1\" class=\"dataframe\">\n",
       "  <thead>\n",
       "    <tr style=\"text-align: right;\">\n",
       "      <th></th>\n",
       "      <th>email</th>\n",
       "      <th>gender</th>\n",
       "      <th>full_name</th>\n",
       "      <th>first</th>\n",
       "      <th>last</th>\n",
       "    </tr>\n",
       "  </thead>\n",
       "  <tbody>\n",
       "    <tr>\n",
       "      <th>0</th>\n",
       "      <td>mohamed@gmail.com</td>\n",
       "      <td>male</td>\n",
       "      <td>mohamed selim</td>\n",
       "      <td>mohamed</td>\n",
       "      <td>selim</td>\n",
       "    </tr>\n",
       "    <tr>\n",
       "      <th>1</th>\n",
       "      <td>ali@gmail.com</td>\n",
       "      <td>male</td>\n",
       "      <td>ali ahmed</td>\n",
       "      <td>ali</td>\n",
       "      <td>ahmed</td>\n",
       "    </tr>\n",
       "    <tr>\n",
       "      <th>2</th>\n",
       "      <td>mena@gmail.com</td>\n",
       "      <td>female</td>\n",
       "      <td>mena khaled</td>\n",
       "      <td>mena</td>\n",
       "      <td>khaled</td>\n",
       "    </tr>\n",
       "    <tr>\n",
       "      <th>3</th>\n",
       "      <td>salma@gamil.com</td>\n",
       "      <td>female</td>\n",
       "      <td>salma gamal</td>\n",
       "      <td>salma</td>\n",
       "      <td>gamal</td>\n",
       "    </tr>\n",
       "    <tr>\n",
       "      <th>5</th>\n",
       "      <td>pasel@gmail.com</td>\n",
       "      <td>male</td>\n",
       "      <td>NaN</td>\n",
       "      <td>assem</td>\n",
       "      <td>pasel</td>\n",
       "    </tr>\n",
       "  </tbody>\n",
       "</table>\n",
       "</div>"
      ],
      "text/plain": [
       "               email  gender      full_name    first    last\n",
       "0  mohamed@gmail.com    male  mohamed selim  mohamed   selim\n",
       "1      ali@gmail.com    male      ali ahmed      ali   ahmed\n",
       "2     mena@gmail.com  female    mena khaled     mena  khaled\n",
       "3    salma@gamil.com  female    salma gamal    salma   gamal\n",
       "5    pasel@gmail.com    male            NaN    assem   pasel"
      ]
     },
     "execution_count": 307,
     "metadata": {},
     "output_type": "execute_result"
    }
   ],
   "source": [
    " df"
   ]
  },
  {
   "cell_type": "code",
   "execution_count": 308,
   "id": "04d587a5",
   "metadata": {},
   "outputs": [
    {
     "data": {
      "text/html": [
       "<div>\n",
       "<style scoped>\n",
       "    .dataframe tbody tr th:only-of-type {\n",
       "        vertical-align: middle;\n",
       "    }\n",
       "\n",
       "    .dataframe tbody tr th {\n",
       "        vertical-align: top;\n",
       "    }\n",
       "\n",
       "    .dataframe thead th {\n",
       "        text-align: right;\n",
       "    }\n",
       "</style>\n",
       "<table border=\"1\" class=\"dataframe\">\n",
       "  <thead>\n",
       "    <tr style=\"text-align: right;\">\n",
       "      <th></th>\n",
       "      <th>email</th>\n",
       "      <th>gender</th>\n",
       "      <th>full_name</th>\n",
       "      <th>first</th>\n",
       "      <th>last</th>\n",
       "    </tr>\n",
       "  </thead>\n",
       "  <tbody>\n",
       "    <tr>\n",
       "      <th>0</th>\n",
       "      <td>mohamed@gmail.com</td>\n",
       "      <td>male</td>\n",
       "      <td>mohamed selim</td>\n",
       "      <td>mohamed</td>\n",
       "      <td>selim</td>\n",
       "    </tr>\n",
       "    <tr>\n",
       "      <th>1</th>\n",
       "      <td>ali@gmail.com</td>\n",
       "      <td>male</td>\n",
       "      <td>ali ahmed</td>\n",
       "      <td>ali</td>\n",
       "      <td>ahmed</td>\n",
       "    </tr>\n",
       "    <tr>\n",
       "      <th>2</th>\n",
       "      <td>mena@gmail.com</td>\n",
       "      <td>female</td>\n",
       "      <td>mena khaled</td>\n",
       "      <td>mena</td>\n",
       "      <td>khaled</td>\n",
       "    </tr>\n",
       "    <tr>\n",
       "      <th>3</th>\n",
       "      <td>salma@gamil.com</td>\n",
       "      <td>female</td>\n",
       "      <td>salma gamal</td>\n",
       "      <td>salma</td>\n",
       "      <td>gamal</td>\n",
       "    </tr>\n",
       "  </tbody>\n",
       "</table>\n",
       "</div>"
      ],
      "text/plain": [
       "               email  gender      full_name    first    last\n",
       "0  mohamed@gmail.com    male  mohamed selim  mohamed   selim\n",
       "1      ali@gmail.com    male      ali ahmed      ali   ahmed\n",
       "2     mena@gmail.com  female    mena khaled     mena  khaled\n",
       "3    salma@gamil.com  female    salma gamal    salma   gamal"
      ]
     },
     "execution_count": 308,
     "metadata": {},
     "output_type": "execute_result"
    }
   ],
   "source": [
    "filt = df[df['last'] == 'pasel'].index # here we get index of user who last name is pasel by index\n",
    "df.drop(index= filt) # and drop it"
   ]
  },
  {
   "cell_type": "code",
   "execution_count": 309,
   "id": "0159ab8a",
   "metadata": {},
   "outputs": [
    {
     "data": {
      "text/html": [
       "<div>\n",
       "<style scoped>\n",
       "    .dataframe tbody tr th:only-of-type {\n",
       "        vertical-align: middle;\n",
       "    }\n",
       "\n",
       "    .dataframe tbody tr th {\n",
       "        vertical-align: top;\n",
       "    }\n",
       "\n",
       "    .dataframe thead th {\n",
       "        text-align: right;\n",
       "    }\n",
       "</style>\n",
       "<table border=\"1\" class=\"dataframe\">\n",
       "  <thead>\n",
       "    <tr style=\"text-align: right;\">\n",
       "      <th></th>\n",
       "      <th>email</th>\n",
       "      <th>gender</th>\n",
       "      <th>full_name</th>\n",
       "      <th>first</th>\n",
       "      <th>last</th>\n",
       "    </tr>\n",
       "  </thead>\n",
       "  <tbody>\n",
       "    <tr>\n",
       "      <th>0</th>\n",
       "      <td>mohamed@gmail.com</td>\n",
       "      <td>male</td>\n",
       "      <td>mohamed selim</td>\n",
       "      <td>mohamed</td>\n",
       "      <td>selim</td>\n",
       "    </tr>\n",
       "    <tr>\n",
       "      <th>1</th>\n",
       "      <td>ali@gmail.com</td>\n",
       "      <td>male</td>\n",
       "      <td>ali ahmed</td>\n",
       "      <td>ali</td>\n",
       "      <td>ahmed</td>\n",
       "    </tr>\n",
       "    <tr>\n",
       "      <th>2</th>\n",
       "      <td>mena@gmail.com</td>\n",
       "      <td>female</td>\n",
       "      <td>mena khaled</td>\n",
       "      <td>mena</td>\n",
       "      <td>khaled</td>\n",
       "    </tr>\n",
       "    <tr>\n",
       "      <th>3</th>\n",
       "      <td>salma@gamil.com</td>\n",
       "      <td>female</td>\n",
       "      <td>salma gamal</td>\n",
       "      <td>salma</td>\n",
       "      <td>gamal</td>\n",
       "    </tr>\n",
       "    <tr>\n",
       "      <th>5</th>\n",
       "      <td>pasel@gmail.com</td>\n",
       "      <td>male</td>\n",
       "      <td>NaN</td>\n",
       "      <td>assem</td>\n",
       "      <td>pasel</td>\n",
       "    </tr>\n",
       "  </tbody>\n",
       "</table>\n",
       "</div>"
      ],
      "text/plain": [
       "               email  gender      full_name    first    last\n",
       "0  mohamed@gmail.com    male  mohamed selim  mohamed   selim\n",
       "1      ali@gmail.com    male      ali ahmed      ali   ahmed\n",
       "2     mena@gmail.com  female    mena khaled     mena  khaled\n",
       "3    salma@gamil.com  female    salma gamal    salma   gamal\n",
       "5    pasel@gmail.com    male            NaN    assem   pasel"
      ]
     },
     "execution_count": 309,
     "metadata": {},
     "output_type": "execute_result"
    }
   ],
   "source": [
    "df"
   ]
  },
  {
   "cell_type": "markdown",
   "id": "d3a68ba4",
   "metadata": {},
   "source": [
    "# Sorting"
   ]
  },
  {
   "cell_type": "code",
   "execution_count": 310,
   "id": "73f426a0",
   "metadata": {},
   "outputs": [
    {
     "data": {
      "text/html": [
       "<div>\n",
       "<style scoped>\n",
       "    .dataframe tbody tr th:only-of-type {\n",
       "        vertical-align: middle;\n",
       "    }\n",
       "\n",
       "    .dataframe tbody tr th {\n",
       "        vertical-align: top;\n",
       "    }\n",
       "\n",
       "    .dataframe thead th {\n",
       "        text-align: right;\n",
       "    }\n",
       "</style>\n",
       "<table border=\"1\" class=\"dataframe\">\n",
       "  <thead>\n",
       "    <tr style=\"text-align: right;\">\n",
       "      <th></th>\n",
       "      <th>email</th>\n",
       "      <th>gender</th>\n",
       "      <th>full_name</th>\n",
       "      <th>first</th>\n",
       "      <th>last</th>\n",
       "    </tr>\n",
       "  </thead>\n",
       "  <tbody>\n",
       "    <tr>\n",
       "      <th>1</th>\n",
       "      <td>ali@gmail.com</td>\n",
       "      <td>male</td>\n",
       "      <td>ali ahmed</td>\n",
       "      <td>ali</td>\n",
       "      <td>ahmed</td>\n",
       "    </tr>\n",
       "    <tr>\n",
       "      <th>3</th>\n",
       "      <td>salma@gamil.com</td>\n",
       "      <td>female</td>\n",
       "      <td>salma gamal</td>\n",
       "      <td>salma</td>\n",
       "      <td>gamal</td>\n",
       "    </tr>\n",
       "    <tr>\n",
       "      <th>2</th>\n",
       "      <td>mena@gmail.com</td>\n",
       "      <td>female</td>\n",
       "      <td>mena khaled</td>\n",
       "      <td>mena</td>\n",
       "      <td>khaled</td>\n",
       "    </tr>\n",
       "    <tr>\n",
       "      <th>5</th>\n",
       "      <td>pasel@gmail.com</td>\n",
       "      <td>male</td>\n",
       "      <td>NaN</td>\n",
       "      <td>assem</td>\n",
       "      <td>pasel</td>\n",
       "    </tr>\n",
       "    <tr>\n",
       "      <th>0</th>\n",
       "      <td>mohamed@gmail.com</td>\n",
       "      <td>male</td>\n",
       "      <td>mohamed selim</td>\n",
       "      <td>mohamed</td>\n",
       "      <td>selim</td>\n",
       "    </tr>\n",
       "  </tbody>\n",
       "</table>\n",
       "</div>"
      ],
      "text/plain": [
       "               email  gender      full_name    first    last\n",
       "1      ali@gmail.com    male      ali ahmed      ali   ahmed\n",
       "3    salma@gamil.com  female    salma gamal    salma   gamal\n",
       "2     mena@gmail.com  female    mena khaled     mena  khaled\n",
       "5    pasel@gmail.com    male            NaN    assem   pasel\n",
       "0  mohamed@gmail.com    male  mohamed selim  mohamed   selim"
      ]
     },
     "execution_count": 310,
     "metadata": {},
     "output_type": "execute_result"
    }
   ],
   "source": [
    "# here we sort by last name columns desending\n",
    "df.sort_values(by='last')"
   ]
  },
  {
   "cell_type": "code",
   "execution_count": 311,
   "id": "0f03195a",
   "metadata": {},
   "outputs": [
    {
     "data": {
      "text/html": [
       "<div>\n",
       "<style scoped>\n",
       "    .dataframe tbody tr th:only-of-type {\n",
       "        vertical-align: middle;\n",
       "    }\n",
       "\n",
       "    .dataframe tbody tr th {\n",
       "        vertical-align: top;\n",
       "    }\n",
       "\n",
       "    .dataframe thead th {\n",
       "        text-align: right;\n",
       "    }\n",
       "</style>\n",
       "<table border=\"1\" class=\"dataframe\">\n",
       "  <thead>\n",
       "    <tr style=\"text-align: right;\">\n",
       "      <th></th>\n",
       "      <th>email</th>\n",
       "      <th>gender</th>\n",
       "      <th>full_name</th>\n",
       "      <th>first</th>\n",
       "      <th>last</th>\n",
       "    </tr>\n",
       "  </thead>\n",
       "  <tbody>\n",
       "    <tr>\n",
       "      <th>1</th>\n",
       "      <td>ali@gmail.com</td>\n",
       "      <td>male</td>\n",
       "      <td>ali ahmed</td>\n",
       "      <td>ali</td>\n",
       "      <td>ahmed</td>\n",
       "    </tr>\n",
       "    <tr>\n",
       "      <th>2</th>\n",
       "      <td>mena@gmail.com</td>\n",
       "      <td>female</td>\n",
       "      <td>mena khaled</td>\n",
       "      <td>mena</td>\n",
       "      <td>khaled</td>\n",
       "    </tr>\n",
       "    <tr>\n",
       "      <th>0</th>\n",
       "      <td>mohamed@gmail.com</td>\n",
       "      <td>male</td>\n",
       "      <td>mohamed selim</td>\n",
       "      <td>mohamed</td>\n",
       "      <td>selim</td>\n",
       "    </tr>\n",
       "    <tr>\n",
       "      <th>5</th>\n",
       "      <td>pasel@gmail.com</td>\n",
       "      <td>male</td>\n",
       "      <td>NaN</td>\n",
       "      <td>assem</td>\n",
       "      <td>pasel</td>\n",
       "    </tr>\n",
       "    <tr>\n",
       "      <th>3</th>\n",
       "      <td>salma@gamil.com</td>\n",
       "      <td>female</td>\n",
       "      <td>salma gamal</td>\n",
       "      <td>salma</td>\n",
       "      <td>gamal</td>\n",
       "    </tr>\n",
       "  </tbody>\n",
       "</table>\n",
       "</div>"
      ],
      "text/plain": [
       "               email  gender      full_name    first    last\n",
       "1      ali@gmail.com    male      ali ahmed      ali   ahmed\n",
       "2     mena@gmail.com  female    mena khaled     mena  khaled\n",
       "0  mohamed@gmail.com    male  mohamed selim  mohamed   selim\n",
       "5    pasel@gmail.com    male            NaN    assem   pasel\n",
       "3    salma@gamil.com  female    salma gamal    salma   gamal"
      ]
     },
     "execution_count": 311,
     "metadata": {},
     "output_type": "execute_result"
    }
   ],
   "source": [
    "df.sort_values(by=['email', 'last'], ascending=True)"
   ]
  },
  {
   "cell_type": "code",
   "execution_count": 314,
   "id": "3e74ed43",
   "metadata": {},
   "outputs": [],
   "source": [
    "df.sort_values(by=['email', 'last'], ascending=[True, False], inplace=True)"
   ]
  },
  {
   "cell_type": "code",
   "execution_count": 315,
   "id": "0a4485b5",
   "metadata": {},
   "outputs": [
    {
     "data": {
      "text/html": [
       "<div>\n",
       "<style scoped>\n",
       "    .dataframe tbody tr th:only-of-type {\n",
       "        vertical-align: middle;\n",
       "    }\n",
       "\n",
       "    .dataframe tbody tr th {\n",
       "        vertical-align: top;\n",
       "    }\n",
       "\n",
       "    .dataframe thead th {\n",
       "        text-align: right;\n",
       "    }\n",
       "</style>\n",
       "<table border=\"1\" class=\"dataframe\">\n",
       "  <thead>\n",
       "    <tr style=\"text-align: right;\">\n",
       "      <th></th>\n",
       "      <th>email</th>\n",
       "      <th>gender</th>\n",
       "      <th>full_name</th>\n",
       "      <th>first</th>\n",
       "      <th>last</th>\n",
       "    </tr>\n",
       "  </thead>\n",
       "  <tbody>\n",
       "    <tr>\n",
       "      <th>1</th>\n",
       "      <td>ali@gmail.com</td>\n",
       "      <td>male</td>\n",
       "      <td>ali ahmed</td>\n",
       "      <td>ali</td>\n",
       "      <td>ahmed</td>\n",
       "    </tr>\n",
       "    <tr>\n",
       "      <th>2</th>\n",
       "      <td>mena@gmail.com</td>\n",
       "      <td>female</td>\n",
       "      <td>mena khaled</td>\n",
       "      <td>mena</td>\n",
       "      <td>khaled</td>\n",
       "    </tr>\n",
       "    <tr>\n",
       "      <th>0</th>\n",
       "      <td>mohamed@gmail.com</td>\n",
       "      <td>male</td>\n",
       "      <td>mohamed selim</td>\n",
       "      <td>mohamed</td>\n",
       "      <td>selim</td>\n",
       "    </tr>\n",
       "    <tr>\n",
       "      <th>5</th>\n",
       "      <td>pasel@gmail.com</td>\n",
       "      <td>male</td>\n",
       "      <td>NaN</td>\n",
       "      <td>assem</td>\n",
       "      <td>pasel</td>\n",
       "    </tr>\n",
       "    <tr>\n",
       "      <th>3</th>\n",
       "      <td>salma@gamil.com</td>\n",
       "      <td>female</td>\n",
       "      <td>salma gamal</td>\n",
       "      <td>salma</td>\n",
       "      <td>gamal</td>\n",
       "    </tr>\n",
       "  </tbody>\n",
       "</table>\n",
       "</div>"
      ],
      "text/plain": [
       "               email  gender      full_name    first    last\n",
       "1      ali@gmail.com    male      ali ahmed      ali   ahmed\n",
       "2     mena@gmail.com  female    mena khaled     mena  khaled\n",
       "0  mohamed@gmail.com    male  mohamed selim  mohamed   selim\n",
       "5    pasel@gmail.com    male            NaN    assem   pasel\n",
       "3    salma@gamil.com  female    salma gamal    salma   gamal"
      ]
     },
     "execution_count": 315,
     "metadata": {},
     "output_type": "execute_result"
    }
   ],
   "source": [
    "df"
   ]
  },
  {
   "cell_type": "code",
   "execution_count": 316,
   "id": "11c9a6b9",
   "metadata": {},
   "outputs": [
    {
     "data": {
      "text/html": [
       "<div>\n",
       "<style scoped>\n",
       "    .dataframe tbody tr th:only-of-type {\n",
       "        vertical-align: middle;\n",
       "    }\n",
       "\n",
       "    .dataframe tbody tr th {\n",
       "        vertical-align: top;\n",
       "    }\n",
       "\n",
       "    .dataframe thead th {\n",
       "        text-align: right;\n",
       "    }\n",
       "</style>\n",
       "<table border=\"1\" class=\"dataframe\">\n",
       "  <thead>\n",
       "    <tr style=\"text-align: right;\">\n",
       "      <th></th>\n",
       "      <th>email</th>\n",
       "      <th>gender</th>\n",
       "      <th>full_name</th>\n",
       "      <th>first</th>\n",
       "      <th>last</th>\n",
       "    </tr>\n",
       "  </thead>\n",
       "  <tbody>\n",
       "    <tr>\n",
       "      <th>0</th>\n",
       "      <td>mohamed@gmail.com</td>\n",
       "      <td>male</td>\n",
       "      <td>mohamed selim</td>\n",
       "      <td>mohamed</td>\n",
       "      <td>selim</td>\n",
       "    </tr>\n",
       "    <tr>\n",
       "      <th>1</th>\n",
       "      <td>ali@gmail.com</td>\n",
       "      <td>male</td>\n",
       "      <td>ali ahmed</td>\n",
       "      <td>ali</td>\n",
       "      <td>ahmed</td>\n",
       "    </tr>\n",
       "    <tr>\n",
       "      <th>2</th>\n",
       "      <td>mena@gmail.com</td>\n",
       "      <td>female</td>\n",
       "      <td>mena khaled</td>\n",
       "      <td>mena</td>\n",
       "      <td>khaled</td>\n",
       "    </tr>\n",
       "    <tr>\n",
       "      <th>3</th>\n",
       "      <td>salma@gamil.com</td>\n",
       "      <td>female</td>\n",
       "      <td>salma gamal</td>\n",
       "      <td>salma</td>\n",
       "      <td>gamal</td>\n",
       "    </tr>\n",
       "    <tr>\n",
       "      <th>5</th>\n",
       "      <td>pasel@gmail.com</td>\n",
       "      <td>male</td>\n",
       "      <td>NaN</td>\n",
       "      <td>assem</td>\n",
       "      <td>pasel</td>\n",
       "    </tr>\n",
       "  </tbody>\n",
       "</table>\n",
       "</div>"
      ],
      "text/plain": [
       "               email  gender      full_name    first    last\n",
       "0  mohamed@gmail.com    male  mohamed selim  mohamed   selim\n",
       "1      ali@gmail.com    male      ali ahmed      ali   ahmed\n",
       "2     mena@gmail.com  female    mena khaled     mena  khaled\n",
       "3    salma@gamil.com  female    salma gamal    salma   gamal\n",
       "5    pasel@gmail.com    male            NaN    assem   pasel"
      ]
     },
     "execution_count": 316,
     "metadata": {},
     "output_type": "execute_result"
    }
   ],
   "source": [
    "# here we sort by index not values of a certain columns\n",
    "df.sort_index()"
   ]
  },
  {
   "cell_type": "code",
   "execution_count": 317,
   "id": "5dd35fd2",
   "metadata": {},
   "outputs": [
    {
     "data": {
      "text/plain": [
       "1     ahmed\n",
       "3     gamal\n",
       "2    khaled\n",
       "5     pasel\n",
       "0     selim\n",
       "Name: last, dtype: object"
      ]
     },
     "execution_count": 317,
     "metadata": {},
     "output_type": "execute_result"
    }
   ],
   "source": [
    "df['last'].sort_values()"
   ]
  },
  {
   "cell_type": "code",
   "execution_count": null,
   "id": "2358510f",
   "metadata": {},
   "outputs": [],
   "source": []
  },
  {
   "cell_type": "code",
   "execution_count": null,
   "id": "40d9f8a4",
   "metadata": {},
   "outputs": [],
   "source": []
  }
 ],
 "metadata": {
  "kernelspec": {
   "display_name": "Python 3 (ipykernel)",
   "language": "python",
   "name": "python3"
  },
  "language_info": {
   "codemirror_mode": {
    "name": "ipython",
    "version": 3
   },
   "file_extension": ".py",
   "mimetype": "text/x-python",
   "name": "python",
   "nbconvert_exporter": "python",
   "pygments_lexer": "ipython3",
   "version": "3.9.12"
  }
 },
 "nbformat": 4,
 "nbformat_minor": 5
}
